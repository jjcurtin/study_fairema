{
 "cells": [
  {
   "cell_type": "markdown",
   "metadata": {},
   "source": [
    "# Create Demographics Summary\n",
    "\n",
    "Coco Yu\n",
    "\n",
    "### Set Up Environment\n",
    "\n",
    "Set up parameters as variables"
   ],
   "id": "1be533da-52a0-4d1e-8f52-13ef8b8dd2a8"
  },
  {
   "cell_type": "code",
   "execution_count": null,
   "metadata": {},
   "outputs": [
    {
     "output_type": "stream",
     "name": "stdout",
     "text": [
      "[1] \"ema\""
     ]
    },
    {
     "output_type": "stream",
     "name": "stdout",
     "text": [
      "[1] \"1day\""
     ]
    },
    {
     "output_type": "stream",
     "name": "stdout",
     "text": [
      "[1] 0"
     ]
    },
    {
     "output_type": "stream",
     "name": "stdout",
     "text": [
      "[1] \"v5\""
     ]
    },
    {
     "output_type": "stream",
     "name": "stdout",
     "text": [
      "[1] \"nested\""
     ]
    },
    {
     "output_type": "stream",
     "name": "stdout",
     "text": [
      "[1] \"main\""
     ]
    }
   ],
   "source": [
    "(study <- params$study)\n"
   ],
   "id": "48e38aa7-9081-453c-bd46-ac3313ed1c97"
  },
  {
   "cell_type": "markdown",
   "metadata": {},
   "source": [
    "Function conflicts"
   ],
   "id": "018f177b-1d1b-42c0-81cb-2fa92bf6413d"
  },
  {
   "cell_type": "code",
   "execution_count": null,
   "metadata": {},
   "outputs": [
    {
     "output_type": "stream",
     "name": "stderr",
     "text": [
      "ℹ SHA-1 hash of file is \"77e91675366f10788c6bcb59fa1cfc9ee0c75281\""
     ]
    }
   ],
   "source": [
    "\n",
    "# source function\n",
    "devtools::source_url(\"https://github.com/jjcurtin/lab_support/blob/main/fun_ml.R?raw=true\")\n"
   ],
   "id": "c2604260-9dd9-46fe-af4c-4fe53793a3e5"
  },
  {
   "cell_type": "markdown",
   "metadata": {},
   "source": [
    "Chunk Defaults"
   ],
   "id": "3540194d-fe45-41b4-a235-cd250244ef6f"
  },
  {
   "cell_type": "code",
   "execution_count": null,
   "metadata": {},
   "outputs": [],
   "source": [
    "\n",
    "knitr::opts_chunk$set(attr.output='style=\"max-height: 500px;\"')\n",
    "\n",
    "options(tibble.width = Inf)\n",
    "options(tibble.print_max = Inf)\n"
   ],
   "id": "e739c145-ccda-4c0a-92ce-9ca0b266d693"
  },
  {
   "cell_type": "markdown",
   "metadata": {},
   "source": [
    "Packages for script"
   ],
   "id": "dfd06a1c-f781-46f0-ad39-3c7794b403a7"
  },
  {
   "cell_type": "code",
   "execution_count": null,
   "metadata": {},
   "outputs": [
    {
     "output_type": "stream",
     "name": "stderr",
     "text": [
      "── Attaching core tidyverse packages ──────────────────────── tidyverse 2.0.0 ──\n",
      "✔ dplyr     1.1.3     ✔ readr     2.1.4\n",
      "✔ forcats   1.0.0     ✔ stringr   1.5.0\n",
      "✔ ggplot2   3.4.3     ✔ tibble    3.2.1\n",
      "✔ lubridate 1.9.2     ✔ tidyr     1.3.0\n",
      "✔ purrr     1.0.2     \n",
      "── Conflicts ────────────────────────────────────────── tidyverse_conflicts() ──\n",
      "✖ dplyr::filter() masks stats::filter()\n",
      "✖ dplyr::lag()    masks stats::lag()\n",
      "ℹ Use the conflicted package (<http://conflicted.r-lib.org/>) to force all conflicts to become errors"
     ]
    }
   ],
   "source": [
    "\n",
    "library(tidyverse)\n"
   ],
   "id": "cad05093-6c5b-4f68-ba04-7c9b4a3c61ce"
  },
  {
   "cell_type": "markdown",
   "metadata": {},
   "source": [
    "Source support functions"
   ],
   "id": "ce16f160-3d2c-46ab-9d0e-9431b484f9df"
  },
  {
   "cell_type": "code",
   "execution_count": null,
   "metadata": {},
   "outputs": [
    {
     "output_type": "stream",
     "name": "stderr",
     "text": [
      "ℹ SHA-1 hash of file is \"a58e57da996d1b70bb9a5b58241325d6fd78890f\""
     ]
    },
    {
     "output_type": "stream",
     "name": "stderr",
     "text": [
      "ℹ SHA-1 hash of file is \"c045eee2655a18dc85e715b78182f176327358a7\""
     ]
    }
   ],
   "source": [
    "\n",
    "devtools::source_url(\"https://github.com/jjcurtin/lab_support/blob/main/format_path.R?raw=true\")\n"
   ],
   "id": "61f939ac-d267-4ac4-9d93-2573667d39ed"
  },
  {
   "cell_type": "markdown",
   "metadata": {},
   "source": [
    "Absolute paths"
   ],
   "id": "ac2d46ee-17fe-4ba0-b8b4-9a708b205777"
  },
  {
   "cell_type": "code",
   "execution_count": null,
   "metadata": {},
   "outputs": [],
   "source": [
    "path_fairema <- format_path(str_c(\"studydata/risk/data_processed/fairema\"))\n"
   ],
   "id": "a99f907a-da0a-44f3-8f24-240e5d93a6a1"
  },
  {
   "cell_type": "markdown",
   "metadata": {},
   "source": [
    "### Read in data"
   ],
   "id": "d7d23259-3369-4a38-9385-94c96ccfc311"
  },
  {
   "cell_type": "code",
   "execution_count": null,
   "metadata": {},
   "outputs": [
    {
     "output_type": "stream",
     "name": "stdout",
     "text": [
      "Rows: 822,537\n",
      "Columns: 24\n",
      "$ outer_split_num <dbl> 2, 2, 2, 2, 2, 2, 2, 2, 2, 2, 2, 2, 2, 2, 2, 2, 2, 2, …\n",
      "$ threshold       <dbl> 0.136745, 0.136745, 0.136745, 0.136745, 0.136745, 0.13…\n",
      "$ subid           <dbl> 1, 1, 1, 1, 1, 1, 1, 1, 1, 1, 1, 1, 1, 1, 1, 1, 1, 1, …\n",
      "$ prob_beta       <dbl> 0.01496474, 0.01496474, 0.01496474, 0.01492757, 0.0149…\n",
      "$ label           <fct> No lapse, No lapse, No lapse, No lapse, No lapse, No l…\n",
      "$ dem_1           <dbl> 57, 57, 57, 57, 57, 57, 57, 57, 57, 57, 57, 57, 57, 57…\n",
      "$ dem_2           <chr> \"Male\", \"Male\", \"Male\", \"Male\", \"Male\", \"Male\", \"Male\"…\n",
      "$ dem_3           <chr> \"White/Caucasian\", \"White/Caucasian\", \"White/Caucasian…\n",
      "$ dem_3_1         <chr> NA, NA, NA, NA, NA, NA, NA, NA, NA, NA, NA, NA, NA, NA…\n",
      "$ dem_4           <chr> \"No, I am not of Hispanic, Latino, or Spanish origin\",…\n",
      "$ dem_4_1         <chr> NA, NA, NA, NA, NA, NA, NA, NA, NA, NA, NA, NA, NA, NA…\n",
      "$ dem_5           <chr> \"College degree\", \"College degree\", \"College degree\", …\n",
      "$ dem_6           <chr> \"Unemployed\", \"Unemployed\", \"Unemployed\", \"Unemployed\"…\n",
      "$ dem_6_1         <chr> NA, NA, NA, NA, NA, NA, NA, NA, NA, NA, NA, NA, NA, NA…\n",
      "$ dem_7           <dbl> 12000, 12000, 12000, 12000, 12000, 12000, 12000, 12000…\n",
      "$ dem_8           <chr> \"Never Married\", \"Never Married\", \"Never Married\", \"Ne…\n",
      "$ dem2_2          <dbl> 2, 2, 2, 2, 2, 2, 2, 2, 2, 2, 2, 2, 2, 2, 2, 2, 2, 2, …\n",
      "$ dem2_4          <dbl> 0, 0, 0, 0, 0, 0, 0, 0, 0, 0, 0, 0, 0, 0, 0, 0, 0, 0, …\n",
      "$ dem2_6          <dbl> 0, 0, 0, 0, 0, 0, 0, 0, 0, 0, 0, 0, 0, 0, 0, 0, 0, 0, …\n",
      "$ dem2_8          <dbl> 0, 0, 0, 0, 0, 0, 0, 0, 0, 0, 0, 0, 0, 0, 0, 0, 0, 0, …\n",
      "$ race            <chr> \"white\", \"white\", \"white\", \"white\", \"white\", \"white\", …\n",
      "$ age             <chr> \"older\", \"older\", \"older\", \"older\", \"older\", \"older\", …\n",
      "$ income          <chr> \"below_poverty\", \"below_poverty\", \"below_poverty\", \"be…\n",
      "$ predicted       <fct> No lapse, No lapse, No lapse, No lapse, No lapse, No l…"
     ]
    }
   ],
   "source": [
    "df <- read_csv(here::here(path_fairema, str_c(\"outer_preds_with_demo_\", window, \"_\", lead,\n",
    "                                               \"_\", version, \"_\", cv, \"_\", model, \".csv\")),\n",
    "               col_types = cols()) |> \n",
    "  mutate(label = factor(label, levels = c(\"Lapse\", \"No lapse\")),\n",
    "         predicted = factor(predicted, levels = c(\"Lapse\", \"No lapse\"))) |> glimpse()\n"
   ],
   "id": "4dfdbcdd-fd47-46ed-aceb-ba9e171cae28"
  },
  {
   "cell_type": "markdown",
   "metadata": {},
   "source": [
    "### Create Table"
   ],
   "id": "8e82bac0-98df-4618-8a9b-0fcad132254b"
  },
  {
   "cell_type": "code",
   "execution_count": null,
   "metadata": {},
   "outputs": [
    {
     "output_type": "stream",
     "name": "stdout",
     "text": [
      "Rows: 151\n",
      "Columns: 4\n",
      "$ sex    <chr> \"Male\", \"Female\", \"Female\", \"Male\", \"Female\", \"Male\", \"Male\", \"…\n",
      "$ race   <chr> \"white\", \"white\", \"white\", \"white\", \"white\", \"white\", \"white\", …\n",
      "$ income <chr> \"below_poverty\", \"above_poverty\", \"above_poverty\", \"above_pover…\n",
      "$ age    <chr> \"older\", \"younger\", \"younger\", \"younger\", \"younger\", \"younger\",…"
     ]
    }
   ],
   "source": [
    "demographics <- df |> \n",
    "  select(c(\"dem_2\", \"race\", \"income\", \"age\", \"subid\")) |> \n",
    "  rename(sex = dem_2) |>\n",
    "  unique() |> \n",
    "  select(-subid) |> \n",
    "  glimpse()\n"
   ],
   "id": "c0119707-e4c2-4354-848f-fda1eef2015c"
  },
  {
   "cell_type": "code",
   "execution_count": null,
   "metadata": {},
   "outputs": [],
   "source": [
    "output <- rbind(\n",
    "  data.frame(table(demographics$sex)),\n",
    "  data.frame(table(demographics$race)),\n",
    "  data.frame(table(demographics$income)),\n",
    "  data.frame(table(demographics$age))\n",
    ")\n",
    "\n",
    "output$demographics <- rep(c(\"sex\", \"race\", \"income\", \"age\"), each = 2)\n",
    "output <- output |> \n",
    "  rename(subgroup = Var1, N = Freq) |> \n",
    "  relocate(demographics)\n",
    "output <- output[c(2, 1, 4, 3, 5, 6, 8, 7),]\n",
    "# output |> print_kbl()\n"
   ],
   "id": "21128c01-fcf8-4c83-8d51-9b5166a49f67"
  },
  {
   "cell_type": "code",
   "execution_count": null,
   "metadata": {},
   "outputs": [
    {
     "output_type": "stream",
     "name": "stderr",
     "text": [
      "Saving 7.3 x 5.2 in image"
     ]
    }
   ],
   "source": [
    "\n",
    "p <- output |> \n",
    "  mutate(\n",
    "    subgroup = case_when(\n",
    "      subgroup == \"Female\" ~ \"unprivileged\",\n",
    "      subgroup == \"Male\" ~ \"privileged\",\n",
    "      subgroup == \"white\" ~ \"privileged\",\n",
    "      subgroup == \"non_white\" ~ \"unprivileged\",\n",
    "      subgroup == \"above_poverty\" ~ \"privileged\",\n",
    "      subgroup == \"below_poverty\" ~ \"unprivileged\",\n",
    "      subgroup == \"younger\" ~ \"privileged\",\n",
    "      subgroup == \"older\" ~ \"unprivileged\"\n",
    "    ),\n",
    "    demographics = case_when(\n",
    "      demographics == \"sex\" ~ \"Sex\",\n",
    "      demographics == \"race\" ~ \"Race\",\n",
    "      demographics == \"income\" ~ \"Income\",\n",
    "      demographics == \"age\" ~ \"Age\"\n",
    "    )\n",
    "  ) |> \n",
    " ggplot(aes(x = \"\", y = N, fill = subgroup)) + \n",
    "  geom_bar(stat=\"identity\", width=1) +\n",
    "  coord_polar(\"y\", start=0) +\n",
    "  scale_fill_manual(values = c(\"privileged\" = \"#6CAA2F\",\n",
    "                               \"unprivileged\" = \"#C23E28\")) +\n",
    "  geom_text(aes(label = c(\n",
    "    \"Male\",\n",
    "    \"Female\",\n",
    "    \"White\",\n",
    "    \"Person of Color\",\n",
    "    \"Above Poverty\",\n",
    "    \"Below Poverty\",\n",
    "    \"Younger\",\n",
    "    \"Older (>55)\"\n",
    "  )), position = position_stack(vjust = 0.5)) +\n",
    "  theme_void() +\n",
    "  theme(legend.title=element_blank(), legend.position = \"bottom\") +\n",
    "  facet_wrap(~factor(demographics, levels = c(\"Race\", \"Sex\", \"Income\", \"Age\"))) +\n",
    "  theme(strip.text.x = element_text(size = 16, face=\"bold\")) \n",
    "  ggsave(\"_presentations/poster1/images/piechart.png\", p,  bg=\"transparent\")\n"
   ],
   "id": "b4659b4e-183d-40e1-baa0-76252b4786b5"
  }
 ],
 "nbformat": 4,
 "nbformat_minor": 5,
 "metadata": {}
}
