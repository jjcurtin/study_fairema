{
 "cells": [
  {
   "cell_type": "markdown",
   "metadata": {},
   "source": [
    "# Create Demographics Summary\n",
    "\n",
    "Coco Yu\n",
    "\n",
    "### Set Up Environment\n",
    "\n",
    "Set up parameters as variables"
   ],
   "id": "d9125372-ca46-48b6-8fcf-6654b8e2ee52"
  },
  {
   "cell_type": "code",
   "execution_count": null,
   "metadata": {},
   "outputs": [
    {
     "output_type": "stream",
     "name": "stdout",
     "text": [
      "[1] \"ema\""
     ]
    },
    {
     "output_type": "stream",
     "name": "stdout",
     "text": [
      "[1] \"1day\""
     ]
    },
    {
     "output_type": "stream",
     "name": "stdout",
     "text": [
      "[1] 0"
     ]
    },
    {
     "output_type": "stream",
     "name": "stdout",
     "text": [
      "[1] \"v5\""
     ]
    },
    {
     "output_type": "stream",
     "name": "stdout",
     "text": [
      "[1] \"nested\""
     ]
    },
    {
     "output_type": "stream",
     "name": "stdout",
     "text": [
      "[1] \"main\""
     ]
    }
   ],
   "source": [
    "(study <- params$study)\n"
   ],
   "id": "66eafa5b-443d-432a-9cb0-f69d5d96f8ab"
  },
  {
   "cell_type": "markdown",
   "metadata": {},
   "source": [
    "Function conflicts"
   ],
   "id": "294ca145-f871-4411-939a-d64243440700"
  },
  {
   "cell_type": "code",
   "execution_count": null,
   "metadata": {},
   "outputs": [
    {
     "output_type": "stream",
     "name": "stderr",
     "text": [
      "ℹ SHA-1 hash of file is \"77e91675366f10788c6bcb59fa1cfc9ee0c75281\""
     ]
    }
   ],
   "source": [
    "\n",
    "# source function\n",
    "devtools::source_url(\"https://github.com/jjcurtin/lab_support/blob/main/fun_ml.R?raw=true\")\n"
   ],
   "id": "a9c79684-df9b-4aa6-a438-3aec83570fd7"
  },
  {
   "cell_type": "markdown",
   "metadata": {},
   "source": [
    "Chunk Defaults"
   ],
   "id": "6a1388b9-325a-46c1-826c-2079b2e95172"
  },
  {
   "cell_type": "code",
   "execution_count": null,
   "metadata": {},
   "outputs": [],
   "source": [
    "\n",
    "knitr::opts_chunk$set(attr.output='style=\"max-height: 500px;\"')\n",
    "\n",
    "options(tibble.width = Inf)\n",
    "options(tibble.print_max = Inf)\n"
   ],
   "id": "43761bc1-b7ae-4fc9-b5b9-57266e20ab27"
  },
  {
   "cell_type": "markdown",
   "metadata": {},
   "source": [
    "Packages for script"
   ],
   "id": "420155ae-3930-4fa9-ba5d-9dcb6beb4620"
  },
  {
   "cell_type": "code",
   "execution_count": null,
   "metadata": {},
   "outputs": [
    {
     "output_type": "stream",
     "name": "stderr",
     "text": [
      "── Attaching core tidyverse packages ──────────────────────── tidyverse 2.0.0 ──\n",
      "✔ dplyr     1.1.3     ✔ readr     2.1.4\n",
      "✔ forcats   1.0.0     ✔ stringr   1.5.0\n",
      "✔ ggplot2   3.4.3     ✔ tibble    3.2.1\n",
      "✔ lubridate 1.9.2     ✔ tidyr     1.3.0\n",
      "✔ purrr     1.0.2     \n",
      "── Conflicts ────────────────────────────────────────── tidyverse_conflicts() ──\n",
      "✖ dplyr::filter() masks stats::filter()\n",
      "✖ dplyr::lag()    masks stats::lag()\n",
      "ℹ Use the conflicted package (<http://conflicted.r-lib.org/>) to force all conflicts to become errors"
     ]
    }
   ],
   "source": [
    "\n",
    "library(tidyverse)\n"
   ],
   "id": "c5f78647-9fa8-48c7-bad7-c1e0ae477ea3"
  },
  {
   "cell_type": "markdown",
   "metadata": {},
   "source": [
    "Source support functions"
   ],
   "id": "b9fc0858-ae40-48d5-bf7b-8b2ebdc73a0a"
  },
  {
   "cell_type": "code",
   "execution_count": null,
   "metadata": {},
   "outputs": [
    {
     "output_type": "stream",
     "name": "stderr",
     "text": [
      "ℹ SHA-1 hash of file is \"a58e57da996d1b70bb9a5b58241325d6fd78890f\""
     ]
    },
    {
     "output_type": "stream",
     "name": "stderr",
     "text": [
      "ℹ SHA-1 hash of file is \"c045eee2655a18dc85e715b78182f176327358a7\""
     ]
    }
   ],
   "source": [
    "\n",
    "devtools::source_url(\"https://github.com/jjcurtin/lab_support/blob/main/format_path.R?raw=true\")\n"
   ],
   "id": "99186e83-a200-4d05-9958-4e9c023f124e"
  },
  {
   "cell_type": "markdown",
   "metadata": {},
   "source": [
    "Absolute paths"
   ],
   "id": "e18fad61-9369-4065-ae7a-886591c5c41a"
  },
  {
   "cell_type": "code",
   "execution_count": null,
   "metadata": {},
   "outputs": [],
   "source": [
    "path_fairema <- format_path(str_c(\"studydata/risk/data_processed/fairema\"))\n"
   ],
   "id": "ac6de893-bf84-4186-8c9c-27d228d39d30"
  },
  {
   "cell_type": "markdown",
   "metadata": {},
   "source": [
    "### Read in data"
   ],
   "id": "819a060e-430f-43d3-b344-6774f87e0659"
  },
  {
   "cell_type": "code",
   "execution_count": null,
   "metadata": {},
   "outputs": [
    {
     "output_type": "stream",
     "name": "stdout",
     "text": [
      "Rows: 822,537\n",
      "Columns: 24\n",
      "$ outer_split_num <dbl> 2, 2, 2, 2, 2, 2, 2, 2, 2, 2, 2, 2, 2, 2, 2, 2, 2, 2, …\n",
      "$ threshold       <dbl> 0.136745, 0.136745, 0.136745, 0.136745, 0.136745, 0.13…\n",
      "$ subid           <dbl> 1, 1, 1, 1, 1, 1, 1, 1, 1, 1, 1, 1, 1, 1, 1, 1, 1, 1, …\n",
      "$ prob_beta       <dbl> 0.01496474, 0.01496474, 0.01496474, 0.01492757, 0.0149…\n",
      "$ label           <fct> No lapse, No lapse, No lapse, No lapse, No lapse, No l…\n",
      "$ dem_1           <dbl> 57, 57, 57, 57, 57, 57, 57, 57, 57, 57, 57, 57, 57, 57…\n",
      "$ dem_2           <chr> \"Male\", \"Male\", \"Male\", \"Male\", \"Male\", \"Male\", \"Male\"…\n",
      "$ dem_3           <chr> \"White/Caucasian\", \"White/Caucasian\", \"White/Caucasian…\n",
      "$ dem_3_1         <chr> NA, NA, NA, NA, NA, NA, NA, NA, NA, NA, NA, NA, NA, NA…\n",
      "$ dem_4           <chr> \"No, I am not of Hispanic, Latino, or Spanish origin\",…\n",
      "$ dem_4_1         <chr> NA, NA, NA, NA, NA, NA, NA, NA, NA, NA, NA, NA, NA, NA…\n",
      "$ dem_5           <chr> \"College degree\", \"College degree\", \"College degree\", …\n",
      "$ dem_6           <chr> \"Unemployed\", \"Unemployed\", \"Unemployed\", \"Unemployed\"…\n",
      "$ dem_6_1         <chr> NA, NA, NA, NA, NA, NA, NA, NA, NA, NA, NA, NA, NA, NA…\n",
      "$ dem_7           <dbl> 12000, 12000, 12000, 12000, 12000, 12000, 12000, 12000…\n",
      "$ dem_8           <chr> \"Never Married\", \"Never Married\", \"Never Married\", \"Ne…\n",
      "$ dem2_2          <dbl> 2, 2, 2, 2, 2, 2, 2, 2, 2, 2, 2, 2, 2, 2, 2, 2, 2, 2, …\n",
      "$ dem2_4          <dbl> 0, 0, 0, 0, 0, 0, 0, 0, 0, 0, 0, 0, 0, 0, 0, 0, 0, 0, …\n",
      "$ dem2_6          <dbl> 0, 0, 0, 0, 0, 0, 0, 0, 0, 0, 0, 0, 0, 0, 0, 0, 0, 0, …\n",
      "$ dem2_8          <dbl> 0, 0, 0, 0, 0, 0, 0, 0, 0, 0, 0, 0, 0, 0, 0, 0, 0, 0, …\n",
      "$ race            <chr> \"white\", \"white\", \"white\", \"white\", \"white\", \"white\", …\n",
      "$ age             <chr> \"older\", \"older\", \"older\", \"older\", \"older\", \"older\", …\n",
      "$ income          <chr> \"below_poverty\", \"below_poverty\", \"below_poverty\", \"be…\n",
      "$ predicted       <fct> No lapse, No lapse, No lapse, No lapse, No lapse, No l…"
     ]
    }
   ],
   "source": [
    "df <- read_csv(here::here(path_fairema, str_c(\"outer_preds_with_demo_\", window, \"_\", lead,\n",
    "                                               \"_\", version, \"_\", cv, \"_\", model, \".csv\")),\n",
    "               col_types = cols()) |> \n",
    "  mutate(label = factor(label, levels = c(\"Lapse\", \"No lapse\")),\n",
    "         predicted = factor(predicted, levels = c(\"Lapse\", \"No lapse\"))) |> glimpse()\n"
   ],
   "id": "c67c5b55-d2d4-40fd-81bf-98420a7e20e0"
  },
  {
   "cell_type": "markdown",
   "metadata": {},
   "source": [
    "### Create Table"
   ],
   "id": "ea28d62c-ea9a-47fd-a540-cac7a30c36cf"
  },
  {
   "cell_type": "code",
   "execution_count": null,
   "metadata": {},
   "outputs": [
    {
     "output_type": "stream",
     "name": "stdout",
     "text": [
      "Rows: 151\n",
      "Columns: 4\n",
      "$ sex    <chr> \"Male\", \"Female\", \"Female\", \"Male\", \"Female\", \"Male\", \"Male\", \"…\n",
      "$ race   <chr> \"white\", \"white\", \"white\", \"white\", \"white\", \"white\", \"white\", …\n",
      "$ income <chr> \"below_poverty\", \"above_poverty\", \"above_poverty\", \"above_pover…\n",
      "$ age    <chr> \"older\", \"younger\", \"younger\", \"younger\", \"younger\", \"younger\",…"
     ]
    }
   ],
   "source": [
    "demographics <- df |> \n",
    "  select(c(\"dem_2\", \"race\", \"income\", \"age\", \"subid\")) |> \n",
    "  rename(sex = dem_2) |>\n",
    "  unique() |> \n",
    "  select(-subid) |> \n",
    "  glimpse()\n"
   ],
   "id": "28874d5a-1a19-4665-9764-3efb3596389e"
  },
  {
   "cell_type": "code",
   "execution_count": null,
   "metadata": {},
   "outputs": [],
   "source": [
    "output <- rbind(\n",
    "  data.frame(table(demographics$sex)),\n",
    "  data.frame(table(demographics$race)),\n",
    "  data.frame(table(demographics$income)),\n",
    "  data.frame(table(demographics$age))\n",
    ")\n",
    "\n",
    "output$demographics <- rep(c(\"sex\", \"race\", \"income\", \"age\"), each = 2)\n",
    "output <- output |> \n",
    "  rename(subgroup = Var1, N = Freq) |> \n",
    "  relocate(demographics)\n",
    "output <- output[c(2, 1, 4, 3, 5, 6, 8, 7),]\n",
    "# output |> print_kbl()\n"
   ],
   "id": "c2b5440d-e278-43f5-9310-d871be8f9d93"
  },
  {
   "cell_type": "code",
   "execution_count": null,
   "metadata": {},
   "outputs": [
    {
     "output_type": "stream",
     "name": "stderr",
     "text": [
      "Saving 7.3 x 5.2 in image"
     ]
    }
   ],
   "source": [
    "\n",
    "p <- output |> \n",
    "  mutate(\n",
    "    subgroup = case_when(\n",
    "      subgroup == \"Female\" ~ \"unprivileged\",\n",
    "      subgroup == \"Male\" ~ \"privileged\",\n",
    "      subgroup == \"white\" ~ \"privileged\",\n",
    "      subgroup == \"non_white\" ~ \"unprivileged\",\n",
    "      subgroup == \"above_poverty\" ~ \"privileged\",\n",
    "      subgroup == \"below_poverty\" ~ \"unprivileged\",\n",
    "      subgroup == \"younger\" ~ \"privileged\",\n",
    "      subgroup == \"older\" ~ \"unprivileged\"\n",
    "    ),\n",
    "    demographics = case_when(\n",
    "      demographics == \"sex\" ~ \"Sex\",\n",
    "      demographics == \"race\" ~ \"Race\",\n",
    "      demographics == \"income\" ~ \"Income\",\n",
    "      demographics == \"age\" ~ \"Age\"\n",
    "    )\n",
    "  ) |> \n",
    " ggplot(aes(x = \"\", y = N, fill = subgroup)) + \n",
    "  geom_bar(stat=\"identity\", width=1) +\n",
    "  coord_polar(\"y\", start=0) +\n",
    "  scale_fill_manual(values = c(\"privileged\" = \"#6CAA2F\",\n",
    "                               \"unprivileged\" = \"#C23E28\")) +\n",
    "  geom_text(aes(label = c(\n",
    "    \"Male\",\n",
    "    \"Female\",\n",
    "    \"White\",\n",
    "    \"Person of Color\",\n",
    "    \"Above Poverty\",\n",
    "    \"Below Poverty\",\n",
    "    \"Younger\",\n",
    "    \"Older (>55)\"\n",
    "  )), position = position_stack(vjust = 0.5)) +\n",
    "  theme_void() +\n",
    "  theme(legend.title=element_blank(), legend.position = \"bottom\") +\n",
    "  facet_wrap(~factor(demographics, levels = c(\"Race\", \"Sex\", \"Income\", \"Age\"))) +\n",
    "  theme(strip.text.x = element_text(size = 16, face=\"bold\")) \n",
    "  ggsave(\"_presentations/poster1/images/piechart.png\", p,  bg=\"transparent\")\n"
   ],
   "id": "61c97f07-63e6-44be-93d2-fa2ae9d44777"
  }
 ],
 "nbformat": 4,
 "nbformat_minor": 5,
 "metadata": {}
}
