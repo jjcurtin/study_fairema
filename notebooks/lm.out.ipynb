{
 "cells": [
  {
   "cell_type": "markdown",
   "metadata": {},
   "source": [
    "# Linear model 1\n",
    "\n",
    "John Curtin"
   ],
   "id": "ee58aa7a-c02f-4006-860b-61467307c075"
  },
  {
   "cell_type": "code",
   "execution_count": null,
   "metadata": {},
   "outputs": [
    {
     "output_type": "stream",
     "name": "stderr",
     "text": [
      "── Attaching core tidyverse packages ──────────────────────── tidyverse 2.0.0 ──\n",
      "✔ dplyr     1.1.2     ✔ readr     2.1.4\n",
      "✔ forcats   1.0.0     ✔ stringr   1.5.0\n",
      "✔ ggplot2   3.4.2     ✔ tibble    3.2.1\n",
      "✔ lubridate 1.9.2     ✔ tidyr     1.3.0\n",
      "✔ purrr     1.0.1     \n",
      "── Conflicts ────────────────────────────────────────── tidyverse_conflicts() ──\n",
      "✖ dplyr::filter() masks stats::filter()\n",
      "✖ dplyr::lag()    masks stats::lag()\n",
      "ℹ Use the conflicted package (<http://conflicted.r-lib.org/>) to force all conflicts to become errors"
     ]
    },
    {
     "output_type": "stream",
     "name": "stderr",
     "text": [
      "ℹ SHA-1 hash of file is \"a58e57da996d1b70bb9a5b58241325d6fd78890f\""
     ]
    }
   ],
   "source": [
    "# set up environment\n",
    "options(conflicts.policy = \"depends.ok\")\n",
    "library(tidyverse)\n"
   ],
   "id": "22eb4dc9-ca6b-4aac-9402-e32eb5a57eb8"
  },
  {
   "cell_type": "markdown",
   "metadata": {},
   "source": [
    "Fit the lm to our data"
   ],
   "id": "5b30b41f-1f2d-4a04-865b-4b54b09e086b"
  },
  {
   "cell_type": "code",
   "execution_count": null,
   "metadata": {},
   "outputs": [
    {
     "output_type": "stream",
     "name": "stdout",
     "text": [
      "\n",
      "Call:\n",
      "lm(formula = dist ~ speed, data = cars)\n",
      "\n",
      "Residuals:\n",
      "    Min      1Q  Median      3Q     Max \n",
      "-29.069  -9.525  -2.272   9.215  43.201 \n",
      "\n",
      "Coefficients:\n",
      "            Estimate Std. Error t value Pr(>|t|)    \n",
      "(Intercept) -17.5791     6.7584  -2.601   0.0123 *  \n",
      "speed         3.9324     0.4155   9.464 1.49e-12 ***\n",
      "---\n",
      "Signif. codes:  0 '***' 0.001 '**' 0.01 '*' 0.05 '.' 0.1 ' ' 1\n",
      "\n",
      "Residual standard error: 15.38 on 48 degrees of freedom\n",
      "Multiple R-squared:  0.6511,    Adjusted R-squared:  0.6438 \n",
      "F-statistic: 89.57 on 1 and 48 DF,  p-value: 1.49e-12"
     ]
    },
    {
     "output_type": "stream",
     "name": "stdout",
     "text": [
      "# A tibble: 2 × 5\n",
      "  term        estimate std.error statistic  p.value\n",
      "  <chr>          <dbl>     <dbl>     <dbl>    <dbl>\n",
      "1 (Intercept)   -17.6      6.76      -2.60 1.23e- 2\n",
      "2 speed           3.93     0.416      9.46 1.49e-12"
     ]
    }
   ],
   "source": [
    "m <- lm (dist ~ speed, data = cars)\n",
    "summary(m)\n"
   ],
   "id": "7c686ae7-d1aa-45b9-b27f-5528614cca41"
  },
  {
   "cell_type": "markdown",
   "metadata": {},
   "source": [
    "Save the model to load and use in manuscript results section. Consider what should be saved. We might save the model object because you can get everything you need from it. But better still might be to save the output you need (e.g., tibble of coefficients and test statistics). In this example, we save both for the lm as demonstrations.\n",
    "\n",
    "NOTES:\n",
    "\n",
    "-   If saving the model object, note that some models from tidymodels (e.g., keras, maybe xgboost) may need [special procedure](https://rstudio.github.io/bundle/reference/bundle_workflows.html) for saving."
   ],
   "id": "373e7d8b-c9bf-4002-afa9-61ccd55e06e6"
  },
  {
   "cell_type": "code",
   "execution_count": null,
   "metadata": {},
   "outputs": [],
   "source": [
    "# can save tidied tables of results as csv.  This is preferred method for saving tables and we believe that saving the tables is likely the best choice for later access to results in index.qmd\n",
    "coeff_table |> write_csv(here::here(\"objects\", \"coeff_table.csv\"))\n",
    "\n",
    "# There may be situations where you need access to the model itself in index.qmd.  If so, model objects should be saved with saveRDS()\n",
    "m |> saveRDS(here::here(\"objects\", \"lm.rds\"))\n"
   ],
   "id": "a04b657a-a693-46db-a61b-d605fa7bf7d1"
  }
 ],
 "nbformat": 4,
 "nbformat_minor": 5,
 "metadata": {}
}
