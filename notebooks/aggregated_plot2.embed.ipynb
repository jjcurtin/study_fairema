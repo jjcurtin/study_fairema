{
 "cells": [
  {
   "cell_type": "markdown",
   "metadata": {},
   "source": [
    "# Agregated metrics plot\n",
    "\n",
    "Coco Yu\n",
    "\n",
    "### Set Up Environment\n",
    "\n",
    "Set up parameters as variables"
   ],
   "id": "16afbe6e-65b5-45b8-bc30-73ed877ba609"
  },
  {
   "cell_type": "code",
   "execution_count": null,
   "metadata": {},
   "outputs": [
    {
     "output_type": "stream",
     "name": "stdout",
     "text": [
      "[1] \"ema\""
     ]
    },
    {
     "output_type": "stream",
     "name": "stdout",
     "text": [
      "[1] \"1day\""
     ]
    },
    {
     "output_type": "stream",
     "name": "stdout",
     "text": [
      "[1] 0"
     ]
    },
    {
     "output_type": "stream",
     "name": "stdout",
     "text": [
      "[1] \"v5\""
     ]
    },
    {
     "output_type": "stream",
     "name": "stdout",
     "text": [
      "[1] \"nested\""
     ]
    },
    {
     "output_type": "stream",
     "name": "stdout",
     "text": [
      "[1] \"main\""
     ]
    }
   ],
   "source": [
    "(study <- params$study)"
   ],
   "id": "29a81cae-8521-43d2-b21a-ac8bdfc0955a"
  },
  {
   "cell_type": "markdown",
   "metadata": {},
   "source": [
    "Function conflicts"
   ],
   "id": "4bdbb098-0a39-4a50-b482-376cbc1c7659"
  },
  {
   "cell_type": "code",
   "execution_count": null,
   "metadata": {},
   "outputs": [
    {
     "output_type": "stream",
     "name": "stderr",
     "text": [
      "ℹ SHA-1 hash of file is \"77e91675366f10788c6bcb59fa1cfc9ee0c75281\""
     ]
    }
   ],
   "source": [
    "# source\n",
    "devtools::source_url(\"https://github.com/jjcurtin/lab_support/blob/main/fun_ml.R?raw=true\")"
   ],
   "id": "34a9f3d0-5f2f-4b26-88c2-67f4cfd5e2e9"
  },
  {
   "cell_type": "markdown",
   "metadata": {},
   "source": [
    "Chunk Defaults"
   ],
   "id": "ff4aab10-2b68-4641-b72f-55c4f9c7f361"
  },
  {
   "cell_type": "code",
   "execution_count": null,
   "metadata": {},
   "outputs": [],
   "source": [
    "knitr::opts_chunk$set(attr.output='style=\"max-height: 500px;\"')\n",
    "\n",
    "options(tibble.width = Inf)\n",
    "options(tibble.print_max = Inf)"
   ],
   "id": "1db4bb57-6147-430f-a41d-03bbab24cca2"
  },
  {
   "cell_type": "markdown",
   "metadata": {},
   "source": [
    "Packages for script"
   ],
   "id": "398bad98-9917-445f-b5bc-5e5c11ec006f"
  },
  {
   "cell_type": "code",
   "execution_count": null,
   "metadata": {},
   "outputs": [
    {
     "output_type": "stream",
     "name": "stderr",
     "text": [
      "── Attaching core tidyverse packages ──────────────────────── tidyverse 2.0.0 ──\n",
      "✔ dplyr     1.1.3     ✔ readr     2.1.4\n",
      "✔ forcats   1.0.0     ✔ stringr   1.5.0\n",
      "✔ ggplot2   3.4.3     ✔ tibble    3.2.1\n",
      "✔ lubridate 1.9.2     ✔ tidyr     1.3.0\n",
      "✔ purrr     1.0.2     \n",
      "── Conflicts ────────────────────────────────────────── tidyverse_conflicts() ──\n",
      "✖ dplyr::filter() masks stats::filter()\n",
      "✖ dplyr::lag()    masks stats::lag()\n",
      "ℹ Use the conflicted package (<http://conflicted.r-lib.org/>) to force all conflicts to become errors"
     ]
    }
   ],
   "source": [
    "library(tidyverse)"
   ],
   "id": "62718f5d-defe-40fc-9ecf-72186f81a2a7"
  },
  {
   "cell_type": "markdown",
   "metadata": {},
   "source": [
    "Source support functions"
   ],
   "id": "a451950c-e704-4163-8ab9-4afa03873e01"
  },
  {
   "cell_type": "code",
   "execution_count": null,
   "metadata": {},
   "outputs": [
    {
     "output_type": "stream",
     "name": "stderr",
     "text": [
      "ℹ SHA-1 hash of file is \"a58e57da996d1b70bb9a5b58241325d6fd78890f\""
     ]
    }
   ],
   "source": [
    "devtools::source_url(\"https://github.com/jjcurtin/lab_support/blob/main/format_path.R?raw=true\")"
   ],
   "id": "17aa3abf-b3e6-4d4e-9142-8429f0178650"
  },
  {
   "cell_type": "markdown",
   "metadata": {},
   "source": [
    "Absolute paths"
   ],
   "id": "97694d6d-eee5-4f97-bf5e-764d932bca22"
  },
  {
   "cell_type": "code",
   "execution_count": null,
   "metadata": {},
   "outputs": [],
   "source": [
    "path_fairema <- format_path(str_c(\"studydata/risk/data_processed/fairema\"))"
   ],
   "id": "a2d79e9a-49b5-4446-8bfe-21ed186203d6"
  },
  {
   "cell_type": "markdown",
   "metadata": {},
   "source": [
    "### Read in data"
   ],
   "id": "04d6ba8a-147f-4b51-967d-27ad5dd36020"
  },
  {
   "cell_type": "code",
   "execution_count": null,
   "metadata": {},
   "outputs": [],
   "source": [
    "df_sex <- read_csv(here::here(path_fairema, str_c(\"outer_preds_perf_\", \"sex\", \"_\", window, \n",
    "                                           \"_\", lead, \"_\", version, \"_\", cv, \"_\", model,\n",
    "                                           \".csv\")),\n",
    "                      col_types = cols())\n",
    "df_sex$attribute <- \"sex\"\n",
    "\n",
    "df_race <- read_csv(here::here(path_fairema, str_c(\"outer_preds_perf_\", \"race\", \"_\", window, \n",
    "                                           \"_\", lead, \"_\", version, \"_\", cv, \"_\", model,\n",
    "                                           \".csv\")),\n",
    "                    col_types = cols())\n",
    "df_race$attribute <- \"race\"\n",
    "\n",
    "df_income <- read_csv(here::here(path_fairema, str_c(\"outer_preds_perf_\", \"income\", \"_\", window, \n",
    "                                           \"_\", lead, \"_\", version, \"_\", cv, \"_\", model,\n",
    "                                           \".csv\")),\n",
    "                      col_types = cols())\n",
    "df_income$attribute <- \"income\"\n",
    "\n",
    "df_age <- read_csv(here::here(path_fairema, str_c(\"outer_preds_perf_\", \"age\", \"_\", window, \n",
    "                                           \"_\", lead, \"_\", version, \"_\", cv, \"_\", model,\n",
    "                                           \".csv\")),\n",
    "                   col_types = cols())\n",
    "df_age$attribute <- \"age\"\n",
    "\n",
    "df <- rbind(df_sex, df_race, df_income, df_age)"
   ],
   "id": "af1c6b4a-f423-497b-b238-e84605a92a25"
  },
  {
   "cell_type": "markdown",
   "metadata": {},
   "source": [
    "### Make Dataframes for plots"
   ],
   "id": "e0de3a3c-ff89-4208-bab6-aed6887d5c81"
  },
  {
   "cell_type": "code",
   "execution_count": null,
   "metadata": {},
   "outputs": [],
   "source": [
    "mak_df_plot <- function(df){\n",
    "  df |> \n",
    "    filter(group != \"all\", n_lapses != 0) |> \n",
    "    select(-n_lapses) |> \n",
    "    pivot_longer(-c(\"outer_split_num\", \"group\", \"attribute\"),\n",
    "               names_to = \"metrics\", values_to = \"score\") |>\n",
    "    mutate(metrics = case_when(metrics == \"balaccuracy\" ~ \"balanced accuracy\",\n",
    "                               metrics != \"balaccuracy\" ~ metrics),\n",
    "           group = case_when(\n",
    "             group == \"Male\" ~ \"Privileged (Male)\",\n",
    "             group == \"Female\" ~ \"Unprivileged (Female)\",\n",
    "             group == \"white\" ~ \"Privileged (White)\",\n",
    "             group == \"non_white\" ~ \"Unprivileged (Person of Color)\",\n",
    "             group == \"above_poverty\" ~ \"Privileged (Above Poverty)\",\n",
    "             group == \"below_poverty\" ~ \"Unprivileged (Below Poverty)\",\n",
    "             group == \"younger\" ~ \"Privileged (Age 55 or older)\",\n",
    "             group == \"older\" ~ \"Unprivileged (Below 55)\"\n",
    "           ),\n",
    "           sig = case_when(\n",
    "             attribute == \"sex\" & metrics == \"auroc\" ~ \"**\",\n",
    "             attribute == \"sex\" & metrics == \"prauc\" ~ \"\",\n",
    "             attribute == \"sex\" & metrics == \"sensitivity\" ~ \"\",\n",
    "             attribute == \"sex\" & metrics == \"specificity\" ~ \"*\",\n",
    "             attribute == \"sex\" & metrics == \"ppv\" ~ \"\",\n",
    "             attribute == \"sex\" & metrics == \"balanced accuracy\" ~ \"\",\n",
    "             attribute == \"race\" & metrics == \"auroc\" ~ \"***\",\n",
    "             attribute == \"race\" & metrics == \"prauc\" ~ \"***\",\n",
    "             attribute == \"race\" & metrics == \"sensitivity\" ~ \"***\",\n",
    "             attribute == \"race\" & metrics == \"specificity\" ~ \"*\",\n",
    "             attribute == \"race\" & metrics == \"ppv\" ~ \"*\",\n",
    "             attribute == \"race\" & metrics == \"balanced accuracy\" ~ \"***\",\n",
    "             attribute == \"income\" & metrics == \"auroc\" ~ \"**\",\n",
    "             attribute == \"income\" & metrics == \"prauc\" ~ \"*\",\n",
    "             attribute == \"income\" & metrics == \"sensitivity\" ~ \"***\",\n",
    "             attribute == \"income\" & metrics == \"specificity\" ~ \"\",\n",
    "             attribute == \"income\" & metrics == \"ppv\" ~ \"\",\n",
    "             attribute == \"income\" & metrics == \"balanced accuracy\" ~ \"***\",\n",
    "             attribute == \"age\" & metrics == \"auroc\" ~ \"***\",\n",
    "             attribute == \"age\" & metrics == \"prauc\" ~ \"\",\n",
    "             attribute == \"age\" & metrics == \"sensitivity\" ~ \"**\",\n",
    "             attribute == \"age\" & metrics == \"specificity\" ~ \"*\",\n",
    "             attribute == \"age\" & metrics == \"ppv\" ~ \"*\",\n",
    "             attribute == \"age\" & metrics == \"balanced accuracy\" ~ \"***\"\n",
    "           ),\n",
    "           CI = case_when(\n",
    "             attribute == \"sex\" & metrics == \"auroc\" ~ \"CI[0.014, 0.074]\",\n",
    "             attribute == \"sex\" & metrics == \"prauc\" ~ \"CI[-0.080, 0.106]\",\n",
    "             attribute == \"sex\" & metrics == \"sensitivity\" ~ \"CI[-0.065, 0.106]\",\n",
    "             attribute == \"sex\" & metrics == \"specificity\" ~ \"CI[0.011, 0.101]\",\n",
    "             attribute == \"sex\" & metrics == \"ppv\" ~ \"CI[-0.071, 0.057]\",\n",
    "             attribute == \"sex\" & metrics == \"balanced accuracy\" ~ \"CI[-0.001, 0.078]\",\n",
    "             attribute == \"race\" & metrics == \"auroc\" ~ \"CI[0.127, 0.259]\",\n",
    "             attribute == \"race\" & metrics == \"prauc\" ~ \"CI[0.121, 0.324]\",\n",
    "             attribute == \"race\" & metrics == \"sensitivity\" ~ \"CI[0.132, 0.363]\",\n",
    "             attribute == \"race\" & metrics == \"specificity\" ~ \"CI[0.0103, 0.152]\",\n",
    "             attribute == \"race\" & metrics == \"ppv\" ~ \"CI[0.026, 0.182]\",\n",
    "             attribute == \"race\" & metrics == \"balanced accuracy\" ~ \"CI[0.121, 0.206]\",\n",
    "             attribute == \"income\" & metrics == \"auroc\" ~ \"CI[0.067, 0.196]\",\n",
    "             attribute == \"income\" & metrics == \"prauc\" ~ \"CI[0.016, 0.227]\",\n",
    "             attribute == \"income\" & metrics == \"sensitivity\" ~ \"CI[0.140, 0.344]\",\n",
    "             attribute == \"income\" & metrics == \"specificity\" ~ \"CI[-0.103, -0.008]\",\n",
    "             attribute == \"income\" & metrics == \"ppv\" ~ \"CI[-0.079, 0.089]\",\n",
    "             attribute == \"income\" & metrics == \"balanced accuracy\" ~ \"CI[0.047, 0.139]\",\n",
    "             attribute == \"age\" & metrics == \"auroc\" ~ \"CI[0.057, 0.138]\",\n",
    "             attribute == \"age\" & metrics == \"prauc\" ~ \"CI[-0.017, 0.187]\",\n",
    "             attribute == \"age\" & metrics == \"sensitivity\" ~ \"CI[0.063, 0.240]\",\n",
    "             attribute == \"age\" & metrics == \"specificity\" ~ \"CI[0.006, 0.106]\",\n",
    "             attribute == \"age\" & metrics == \"ppv\" ~ \"CI[0.011, 0.143]\",\n",
    "             attribute == \"age\" & metrics == \"balanced accuracy\" ~ \"CI[0.065, 0.149]\"\n",
    "           )\n",
    "           )|> \n",
    "    mutate(metrics = if_else(metrics == \"prauc\", \"auPR\", metrics)) |> \n",
    "    mutate(metrics = if_else(metrics == \"auroc\", \"auROC\", metrics))\n",
    "}"
   ],
   "id": "d96b6a7e-8e5e-4b64-a1cb-157e66607fc5"
  },
  {
   "cell_type": "code",
   "execution_count": null,
   "metadata": {},
   "outputs": [],
   "source": [
    "df_sex <- mak_df_plot(df_sex)\n",
    "df_race <- mak_df_plot(df_race)\n",
    "df_income <- mak_df_plot(df_income)\n",
    "df_age <- mak_df_plot(df_age)\n",
    "df <- mak_df_plot(df)"
   ],
   "id": "afae2301-4561-4ea6-b83d-390b66d48925"
  },
  {
   "cell_type": "markdown",
   "metadata": {},
   "source": [
    "### Construct Plots"
   ],
   "id": "7eef369d-05e5-4778-b1d8-c313f2a26b2c"
  },
  {
   "cell_type": "code",
   "execution_count": null,
   "metadata": {},
   "outputs": [],
   "source": [
    "sig_marks <- c(\"\", \"*\", \"**\", \"***\", \"\")\n",
    "\n",
    "\n",
    "\n",
    "r1 <-     df_race |> \n",
    "      filter(metrics %in% c(\"auROC\", \"auPR\")) |> \n",
    "      ggplot(aes(x = \"\", y = score, fill = group)) +\n",
    "      geom_boxplot(outlier.size = .2) +\n",
    "      facet_wrap(~factor(metrics, levels = c(\"auROC\", \"auPR\"))) +\n",
    "      theme_classic() +\n",
    "      theme(axis.title.y = element_blank(),\n",
    "            axis.ticks.y = element_blank(),\n",
    "            axis.line.y = element_blank(),\n",
    "            axis.text.y = element_text(margin = margin(r = -12)),\n",
    "            axis.line.x = element_blank(),\n",
    "            axis.ticks.x = element_blank(),\n",
    "            plot.margin = margin(1, 1, 1, 1, \"pt\"),\n",
    "            legend.text = element_text(size=7),\n",
    "            legend.title=element_blank()) +\n",
    "      scale_fill_manual(values = c(\"#6CAA2F\", \"#C23E28\")) +\n",
    "      labs(x = NULL) +\n",
    "      guides(fill=guide_legend(nrow=2, byrow=TRUE)) +\n",
    "      geom_text(aes(label = sig, y = 0), color = \"blue\", size = 7)+ \n",
    "  theme(\n",
    "    panel.background = element_rect(fill='transparent'), #transparent panel bg\n",
    "    plot.background = element_rect(fill='transparent', color=NA), #transparent plot bg\n",
    "    panel.grid.major = element_blank(), #remove major gridlines\n",
    "    panel.grid.minor = element_blank(), #remove minor gridlines\n",
    "    strip.background =element_rect(fill=\"transparent\"),\n",
    "    legend.background = element_rect(fill='transparent'), #transparent legend bg\n",
    "    legend.box.background = element_rect(fill='transparent') #transparent legend panel\n",
    "  )\n",
    "    \n",
    "r2 <-     df_race |> \n",
    "      filter(metrics %in% c(\"sensitivity\", \"specificity\", \"ppv\")) |> \n",
    "      ggplot(aes(x = \"\", y = score, fill = group)) +\n",
    "      geom_boxplot(outlier.size = .2) +\n",
    "      facet_wrap(~factor(metrics, \n",
    "                         levels = c(\"specificity\", \"sensitivity\", \"ppv\"))) +\n",
    "      theme_classic() +\n",
    "      theme(axis.title.y = element_blank(),\n",
    "            axis.ticks.y = element_blank(),\n",
    "            axis.line.y = element_blank(),\n",
    "            axis.text.y = element_text(margin = margin(r = -12)),\n",
    "            axis.line.x = element_blank(),\n",
    "            axis.ticks.x = element_blank(),\n",
    "            plot.margin = margin(1, 1, 1, 1, \"pt\"),\n",
    "            legend.text = element_text(size=7),\n",
    "            legend.title=element_blank()) + \n",
    "      scale_fill_manual(values = c(\"#6CAA2F\", \"#C23E28\")) +\n",
    "      labs(x = NULL) +\n",
    "      guides(fill=guide_legend(nrow=2, byrow=TRUE)) +\n",
    "      geom_text(aes(label = sig, y = 0), color = \"blue\", size = 7)+ \n",
    "  theme(\n",
    "    panel.background = element_rect(fill='transparent'), #transparent panel bg\n",
    "    plot.background = element_rect(fill='transparent', color=NA), #transparent plot bg\n",
    "    panel.grid.major = element_blank(), #remove major gridlines\n",
    "    panel.grid.minor = element_blank(), #remove minor gridlines\n",
    "    strip.background =element_rect(fill=\"transparent\"),\n",
    "    legend.background = element_rect(fill='transparent'), #transparent legend bg\n",
    "    legend.box.background = element_rect(fill='transparent') #transparent legend panel\n",
    "  )\n",
    "\n",
    "r <- ggarrange(r1, r2, ncol = 1, common.legend = TRUE, legend = \"bottom\")\n",
    "r <- annotate_figure(r, top = text_grob(\"Race\", face = \"bold\"))"
   ],
   "id": "8ba9cac3-4042-458a-a443-c5d5484f918e"
  },
  {
   "cell_type": "code",
   "execution_count": null,
   "metadata": {},
   "outputs": [],
   "source": [
    "s1 <-     df_sex |> \n",
    "      filter(metrics %in% c(\"auROC\", \"auPR\")) |> \n",
    "      ggplot(aes(x = \"\", y = score, fill = group)) +\n",
    "      geom_boxplot(outlier.size = .2) +\n",
    "      facet_wrap(~factor(metrics, levels = c(\"auROC\", \"auPR\"))) +\n",
    "      theme_classic() +\n",
    "      theme(axis.title.y = element_blank(),\n",
    "            axis.ticks.y = element_blank(),\n",
    "            axis.line.y = element_blank(),\n",
    "            axis.text.y = element_text(margin = margin(r = -12)),\n",
    "            axis.line.x = element_blank(),\n",
    "            axis.ticks.x = element_blank(),\n",
    "            plot.margin = margin(1, 1, 1, 1, \"pt\"),\n",
    "            legend.text = element_text(size=7),\n",
    "            legend.title=element_blank()) +\n",
    "      scale_fill_manual(values = c(\"#6CAA2F\", \"#C23E28\")) +\n",
    "      labs(x = NULL) +\n",
    "      guides(fill=guide_legend(nrow=2, byrow=TRUE)) +\n",
    "      geom_text(aes(label = sig, y = 0), color = \"blue\", size = 7)+\n",
    "  theme(\n",
    "    panel.background = element_rect(fill='transparent'), #transparent panel bg\n",
    "    plot.background = element_rect(fill='transparent', color=NA), #transparent plot bg\n",
    "    panel.grid.major = element_blank(), #remove major gridlines\n",
    "    panel.grid.minor = element_blank(), #remove minor gridlines\n",
    "    strip.background =element_rect(fill=\"transparent\"),\n",
    "    legend.background = element_rect(fill='transparent'), #transparent legend bg\n",
    "    legend.box.background = element_rect(fill='transparent') #transparent legend panel\n",
    "  )\n",
    "    \n",
    "s2 <-     df_sex |> \n",
    "      filter(metrics %in% c(\"sensitivity\", \"specificity\", \"ppv\")) |> \n",
    "      ggplot(aes(x = \"\", y = score, fill = group)) +\n",
    "      geom_boxplot(outlier.size = .2) +\n",
    "      facet_wrap(~factor(metrics, \n",
    "                         levels = c(\"specificity\", \"sensitivity\", \"ppv\"))) +\n",
    "      theme_classic() +\n",
    "      theme(axis.title.y = element_blank(),\n",
    "            axis.ticks.y = element_blank(),\n",
    "            axis.line.y = element_blank(),\n",
    "            axis.text.y = element_text(margin = margin(r = -12)),\n",
    "            axis.line.x = element_blank(),\n",
    "            axis.ticks.x = element_blank(),\n",
    "            plot.margin = margin(1, 1, 1, 1, \"pt\"),\n",
    "            legend.text = element_text(size=7),\n",
    "            legend.title=element_blank()) + \n",
    "      scale_fill_manual(values = c(\"#6CAA2F\", \"#C23E28\")) +\n",
    "      labs(x = NULL) +\n",
    "      guides(fill=guide_legend(nrow=2, byrow=TRUE)) +\n",
    "      geom_text(aes(label = sig, y = 0), color = \"blue\", size = 7)+ \n",
    "  theme(\n",
    "    panel.background = element_rect(fill='transparent'), #transparent panel bg\n",
    "    plot.background = element_rect(fill='transparent', color=NA), #transparent plot bg\n",
    "    panel.grid.major = element_blank(), #remove major gridlines\n",
    "    panel.grid.minor = element_blank(), #remove minor gridlines\n",
    "    strip.background =element_rect(fill=\"transparent\"),\n",
    "    legend.background = element_rect(fill='transparent'), #transparent legend bg\n",
    "    legend.box.background = element_rect(fill='transparent') #transparent legend panel\n",
    "  )\n",
    "\n",
    "\n",
    "s <- ggarrange(s1, s2, ncol = 1, common.legend = TRUE, legend = \"bottom\")\n",
    "s <- annotate_figure(s, top = text_grob(\"Sex\", face = \"bold\"))"
   ],
   "id": "8f5f09b9-0558-438a-8c44-e47d08510964"
  },
  {
   "cell_type": "code",
   "execution_count": null,
   "metadata": {},
   "outputs": [
    {
     "output_type": "stream",
     "name": "stderr",
     "text": [
      "Warning: Removed 1 rows containing non-finite values (`stat_boxplot()`)."
     ]
    }
   ],
   "source": [
    "i1 <-     df_income |> \n",
    "      filter(metrics %in% c(\"auROC\", \"auPR\")) |> \n",
    "      ggplot(aes(x = \"\", y = score, fill = group)) +\n",
    "      geom_boxplot(outlier.size = .2) +\n",
    "      facet_wrap(~factor(metrics, levels = c(\"auROC\", \"auPR\"))) +\n",
    "      theme_classic() +\n",
    "      theme(axis.title.y = element_blank(),\n",
    "            axis.ticks.y = element_blank(),\n",
    "            axis.line.y = element_blank(),\n",
    "            axis.text.y = element_text(margin = margin(r = -12)),\n",
    "            axis.line.x = element_blank(),\n",
    "            axis.ticks.x = element_blank(),\n",
    "            plot.margin = margin(1, 1, 1, 1, \"pt\"),\n",
    "            legend.text = element_text(size=7),\n",
    "            legend.title=element_blank()) +\n",
    "      scale_fill_manual(values = c(\"#6CAA2F\", \"#C23E28\")) +\n",
    "      labs(x = NULL) +\n",
    "      guides(fill=guide_legend(nrow=2, byrow=TRUE)) +\n",
    "      geom_text(aes(label = sig, y = 0), color = \"blue\", size = 7)+ theme(legend.position=\"none\")+\n",
    "  theme(\n",
    "    panel.background = element_rect(fill='transparent'), #transparent panel bg\n",
    "    plot.background = element_rect(fill='transparent', color=NA), #transparent plot bg\n",
    "    panel.grid.major = element_blank(), #remove major gridlines\n",
    "    panel.grid.minor = element_blank(), #remove minor gridlines\n",
    "    strip.background =element_rect(fill=\"transparent\"),\n",
    "    legend.background = element_rect(fill='transparent'), #transparent legend bg\n",
    "    legend.box.background = element_rect(fill='transparent') #transparent legend panel\n",
    "  )\n",
    "    \n",
    "i2 <-     df_income |> \n",
    "      filter(metrics %in% c(\"sensitivity\", \"specificity\", \"ppv\")) |> \n",
    "      ggplot(aes(x = \"\", y = score, fill = group)) +\n",
    "      geom_boxplot(outlier.size = .2) +\n",
    "      facet_wrap(~factor(metrics, \n",
    "                         levels = c(\"specificity\", \"sensitivity\", \"ppv\"))) +\n",
    "      theme_classic() +\n",
    "      theme(axis.title.y = element_blank(),\n",
    "            axis.ticks.y = element_blank(),\n",
    "            axis.line.y = element_blank(),\n",
    "            axis.text.y = element_text(margin = margin(r = -12)),\n",
    "            axis.line.x = element_blank(),\n",
    "            axis.ticks.x = element_blank(),\n",
    "            plot.margin = margin(1, 1, 1, 1, \"pt\"),\n",
    "            legend.text = element_text(size=7),\n",
    "            legend.title=element_blank()) + \n",
    "      scale_fill_manual(values = c(\"#6CAA2F\", \"#C23E28\")) +\n",
    "      labs(x = NULL) +\n",
    "      guides(fill=guide_legend(nrow=2, byrow=TRUE)) +\n",
    "      geom_text(aes(label = sig, y = 0), color = \"blue\", size = 7)+ theme(legend.position=\"none\")+\n",
    "  theme(\n",
    "    panel.background = element_rect(fill='transparent'), #transparent panel bg\n",
    "    plot.background = element_rect(fill='transparent', color=NA), #transparent plot bg\n",
    "    panel.grid.major = element_blank(), #remove major gridlines\n",
    "    panel.grid.minor = element_blank(), #remove minor gridlines\n",
    "    strip.background =element_rect(fill=\"transparent\"),\n",
    "    legend.background = element_rect(fill='transparent'), #transparent legend bg\n",
    "    legend.box.background = element_rect(fill='transparent') #transparent legend panel\n",
    "  )\n",
    "\n",
    "\n",
    "i <- ggarrange(i1, i2, ncol = 1, common.legend = TRUE, legend = \"bottom\")"
   ],
   "id": "5db45781-6f6a-418d-85f2-a8e39da5e205"
  },
  {
   "cell_type": "code",
   "execution_count": null,
   "metadata": {},
   "outputs": [],
   "source": [
    "a1 <-     df_age |> \n",
    "      filter(metrics %in% c(\"auROC\", \"auPR\")) |> \n",
    "      ggplot(aes(x = \"\", y = score, fill = group)) +\n",
    "      geom_boxplot(outlier.size = .2) +\n",
    "      facet_wrap(~factor(metrics, levels = c(\"auROC\", \"auPR\"))) +\n",
    "      theme_classic() +\n",
    "      theme(axis.title.y = element_blank(),\n",
    "            axis.ticks.y = element_blank(),\n",
    "            axis.line.y = element_blank(),\n",
    "            axis.text.y = element_text(margin = margin(r = -12)),\n",
    "            axis.line.x = element_blank(),\n",
    "            axis.ticks.x = element_blank(),\n",
    "            plot.margin = margin(1, 1, 1, 1, \"pt\"),\n",
    "            legend.text = element_text(size=7),\n",
    "            legend.title=element_blank()) +\n",
    "      scale_fill_manual(values = c(\"#6CAA2F\", \"#C23E28\")) +\n",
    "      labs(x = NULL) +\n",
    "      guides(fill=guide_legend(nrow=2, byrow=TRUE)) +\n",
    "      geom_text(aes(label = sig, y = 0), color = \"blue\", size = 7)+ theme(legend.position=\"none\")+\n",
    "  theme(\n",
    "    panel.background = element_rect(fill='transparent'), #transparent panel bg\n",
    "    plot.background = element_rect(fill='transparent', color=NA), #transparent plot bg\n",
    "    panel.grid.major = element_blank(), #remove major gridlines\n",
    "    panel.grid.minor = element_blank(), #remove minor gridlines\n",
    "    strip.background =element_rect(fill=\"transparent\"),\n",
    "    legend.background = element_rect(fill='transparent'), #transparent legend bg\n",
    "    legend.box.background = element_rect(fill='transparent') #transparent legend panel\n",
    "  )\n",
    "    \n",
    "a2 <-     df_age  |> \n",
    "      filter(metrics %in% c(\"sensitivity\", \"specificity\", \"ppv\")) |> \n",
    "      ggplot(aes(x = \"\", y = score, fill = group)) +\n",
    "      geom_boxplot(outlier.size = .2) +\n",
    "      facet_wrap(~factor(metrics, \n",
    "                         levels = c(\"specificity\", \"sensitivity\", \"ppv\"))) +\n",
    "      theme_classic() +\n",
    "      theme(axis.title.y = element_blank(),\n",
    "            axis.ticks.y = element_blank(),\n",
    "            axis.line.y = element_blank(),\n",
    "            axis.text.y = element_text(margin = margin(r = -12)),\n",
    "            axis.line.x = element_blank(),\n",
    "            axis.ticks.x = element_blank(),\n",
    "            plot.margin = margin(1, 1, 1, 1, \"pt\"),\n",
    "            legend.text = element_text(size=7),\n",
    "            legend.title=element_blank()) + \n",
    "      scale_fill_manual(values = c(\"#6CAA2F\", \"#C23E28\")) +\n",
    "      labs(x = NULL) +\n",
    "      guides(fill=guide_legend(nrow=2, byrow=TRUE)) +\n",
    "      geom_text(aes(label = sig, y = 0), color = \"blue\", size = 7)+ theme(legend.position=\"none\")+\n",
    "  theme(\n",
    "    panel.background = element_rect(fill='transparent'), #transparent panel bg\n",
    "    plot.background = element_rect(fill='transparent', color=NA), #transparent plot bg\n",
    "    panel.grid.major = element_blank(), #remove major gridlines\n",
    "    panel.grid.minor = element_blank(), #remove minor gridlines\n",
    "    strip.background =element_rect(fill=\"transparent\"),\n",
    "    legend.background = element_rect(fill='transparent'), #transparent legend bg\n",
    "    legend.box.background = element_rect(fill='transparent') #transparent legend panel\n",
    "  )\n",
    "\n",
    "\n",
    "a <- ggarrange(a1, a2, ncol = 1, common.legend = TRUE, legend = \"bottom\")\n",
    "a <- annotate_figure(a, top = text_grob(\"Age\", face = \"bold\"))"
   ],
   "id": "9315425c-e104-4190-b047-8ef723f4a230"
  },
  {
   "cell_type": "code",
   "execution_count": null,
   "metadata": {},
   "outputs": [],
   "source": [
    "sr <- ggarrange(\n",
    "  r,\n",
    "  s\n",
    ")\n",
    "\n",
    "ia <- ggarrange(\n",
    "  i,\n",
    "  a\n",
    ")"
   ],
   "id": "10206f76-e46d-42da-8302-7b6439d24a71"
  },
  {
   "cell_type": "code",
   "execution_count": null,
   "metadata": {},
   "outputs": [
    {
     "output_type": "stream",
     "name": "stderr",
     "text": [
      "Warning: Removed 1 rows containing non-finite values (`stat_boxplot()`)."
     ]
    }
   ],
   "source": [
    "#set printing defaults for ggsave\n",
    "gg_width <-  4\n",
    "\n",
    "\n",
    "#printing\n",
    "\n",
    "ggsave(\"_presentations/poster1/images/barplot_race1.png\", r1,  bg=\"transparent\", width = gg_width, height = gg_width)\n",
    "ggsave(\"_presentations/poster1/images/barplot_race2.png\", r2, bg=\"transparent\", width = gg_width, height = gg_width)\n",
    "ggsave(\"_presentations/poster1/images/barplot_sex1.png\", s1,  bg=\"transparent\", width = gg_width, height = gg_width)\n",
    "ggsave(\"_presentations/poster1/images/barplot_sex2.png\", s2, bg=\"transparent\", width = gg_width, height = gg_width)\n",
    "ggsave(\"_presentations/poster1/images/barplot_income1.png\", i1,  bg=\"transparent\", width = gg_width, height = gg_width)\n",
    "ggsave(\"_presentations/poster1/images/barplot_income2.png\", i2, bg=\"transparent\", width = gg_width, height = gg_width)"
   ],
   "id": "0ff56e91-82b7-442c-baa4-157f20c2ade7"
  }
 ],
 "nbformat": 4,
 "nbformat_minor": 5,
 "metadata": {}
}
