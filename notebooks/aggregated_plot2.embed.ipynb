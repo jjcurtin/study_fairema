{
 "cells": [
  {
   "cell_type": "markdown",
   "metadata": {},
   "source": [
    "# Agregated metrics plot\n",
    "\n",
    "Coco Yu\n",
    "\n",
    "### Set Up Environment\n",
    "\n",
    "Set up parameters as variables"
   ],
   "id": "276950b9-cd81-43b9-acd7-858a9bd0e3fa"
  },
  {
   "cell_type": "code",
   "execution_count": null,
   "metadata": {},
   "outputs": [
    {
     "output_type": "stream",
     "name": "stdout",
     "text": [
      "[1] \"ema\""
     ]
    },
    {
     "output_type": "stream",
     "name": "stdout",
     "text": [
      "[1] \"1day\""
     ]
    },
    {
     "output_type": "stream",
     "name": "stdout",
     "text": [
      "[1] 0"
     ]
    },
    {
     "output_type": "stream",
     "name": "stdout",
     "text": [
      "[1] \"v5\""
     ]
    },
    {
     "output_type": "stream",
     "name": "stdout",
     "text": [
      "[1] \"nested\""
     ]
    },
    {
     "output_type": "stream",
     "name": "stdout",
     "text": [
      "[1] \"main\""
     ]
    }
   ],
   "source": [
    "(study <- params$study)"
   ],
   "id": "dc307751-55b0-469b-ac45-11949b75f0ef"
  },
  {
   "cell_type": "markdown",
   "metadata": {},
   "source": [
    "Function conflicts"
   ],
   "id": "e64a64b7-e7da-4e93-9f79-2508c6a454a7"
  },
  {
   "cell_type": "code",
   "execution_count": null,
   "metadata": {},
   "outputs": [
    {
     "output_type": "stream",
     "name": "stderr",
     "text": [
      "ℹ SHA-1 hash of file is \"77e91675366f10788c6bcb59fa1cfc9ee0c75281\""
     ]
    }
   ],
   "source": [
    "# source\n",
    "devtools::source_url(\"https://github.com/jjcurtin/lab_support/blob/main/fun_ml.R?raw=true\")"
   ],
   "id": "482c5045-dddf-4bc1-ad8f-0e105c43210c"
  },
  {
   "cell_type": "markdown",
   "metadata": {},
   "source": [
    "Chunk Defaults"
   ],
   "id": "771b3e45-34b6-42fe-a74f-4756786bc7e3"
  },
  {
   "cell_type": "code",
   "execution_count": null,
   "metadata": {},
   "outputs": [],
   "source": [
    "knitr::opts_chunk$set(attr.output='style=\"max-height: 500px;\"')\n",
    "\n",
    "options(tibble.width = Inf)\n",
    "options(tibble.print_max = Inf)"
   ],
   "id": "fd156761-6ddb-402d-b4a0-8fb5e1abe62a"
  },
  {
   "cell_type": "markdown",
   "metadata": {},
   "source": [
    "Packages for script"
   ],
   "id": "fb59b78e-24a0-4788-895c-aa9709c9f090"
  },
  {
   "cell_type": "code",
   "execution_count": null,
   "metadata": {},
   "outputs": [
    {
     "output_type": "stream",
     "name": "stderr",
     "text": [
      "── Attaching core tidyverse packages ──────────────────────── tidyverse 2.0.0 ──\n",
      "✔ dplyr     1.1.3     ✔ readr     2.1.4\n",
      "✔ forcats   1.0.0     ✔ stringr   1.5.0\n",
      "✔ ggplot2   3.4.3     ✔ tibble    3.2.1\n",
      "✔ lubridate 1.9.2     ✔ tidyr     1.3.0\n",
      "✔ purrr     1.0.2     \n",
      "── Conflicts ────────────────────────────────────────── tidyverse_conflicts() ──\n",
      "✖ dplyr::filter() masks stats::filter()\n",
      "✖ dplyr::lag()    masks stats::lag()\n",
      "ℹ Use the conflicted package (<http://conflicted.r-lib.org/>) to force all conflicts to become errors"
     ]
    }
   ],
   "source": [
    "library(tidyverse)"
   ],
   "id": "b2ef2a50-4beb-4333-8e24-0c6336375173"
  },
  {
   "cell_type": "markdown",
   "metadata": {},
   "source": [
    "Source support functions"
   ],
   "id": "20654209-31ab-489a-bb2f-df5da2cc420d"
  },
  {
   "cell_type": "code",
   "execution_count": null,
   "metadata": {},
   "outputs": [
    {
     "output_type": "stream",
     "name": "stderr",
     "text": [
      "ℹ SHA-1 hash of file is \"a58e57da996d1b70bb9a5b58241325d6fd78890f\""
     ]
    }
   ],
   "source": [
    "devtools::source_url(\"https://github.com/jjcurtin/lab_support/blob/main/format_path.R?raw=true\")"
   ],
   "id": "3c752952-30ae-4c78-b73c-c8ef7e950763"
  },
  {
   "cell_type": "markdown",
   "metadata": {},
   "source": [
    "Absolute paths"
   ],
   "id": "3b4fb642-5e78-43a0-af65-072ca662b9a4"
  },
  {
   "cell_type": "code",
   "execution_count": null,
   "metadata": {},
   "outputs": [],
   "source": [
    "path_fairema <- format_path(str_c(\"studydata/risk/data_processed/fairema\"))"
   ],
   "id": "40f7006b-0e88-40be-8116-d1f8bf2941ce"
  },
  {
   "cell_type": "markdown",
   "metadata": {},
   "source": [
    "### Read in data"
   ],
   "id": "9c5938e5-c5b1-4159-a9ce-5f6c401fb297"
  },
  {
   "cell_type": "code",
   "execution_count": null,
   "metadata": {},
   "outputs": [],
   "source": [
    "df_sex <- read_csv(here::here(path_fairema, str_c(\"outer_preds_perf_\", \"sex\", \"_\", window, \n",
    "                                           \"_\", lead, \"_\", version, \"_\", cv, \"_\", model,\n",
    "                                           \".csv\")),\n",
    "                      col_types = cols())\n",
    "df_sex$attribute <- \"sex\"\n",
    "\n",
    "df_race <- read_csv(here::here(path_fairema, str_c(\"outer_preds_perf_\", \"race\", \"_\", window, \n",
    "                                           \"_\", lead, \"_\", version, \"_\", cv, \"_\", model,\n",
    "                                           \".csv\")),\n",
    "                    col_types = cols())\n",
    "df_race$attribute <- \"race\"\n",
    "\n",
    "df_income <- read_csv(here::here(path_fairema, str_c(\"outer_preds_perf_\", \"income\", \"_\", window, \n",
    "                                           \"_\", lead, \"_\", version, \"_\", cv, \"_\", model,\n",
    "                                           \".csv\")),\n",
    "                      col_types = cols())\n",
    "df_income$attribute <- \"income\"\n",
    "\n",
    "df_age <- read_csv(here::here(path_fairema, str_c(\"outer_preds_perf_\", \"age\", \"_\", window, \n",
    "                                           \"_\", lead, \"_\", version, \"_\", cv, \"_\", model,\n",
    "                                           \".csv\")),\n",
    "                   col_types = cols())\n",
    "df_age$attribute <- \"age\"\n",
    "\n",
    "df <- rbind(df_sex, df_race, df_income, df_age)"
   ],
   "id": "e4850730-eef1-413d-a918-36bd7b1f3e07"
  },
  {
   "cell_type": "markdown",
   "metadata": {},
   "source": [
    "### Make Dataframes for plots"
   ],
   "id": "67e1a8b0-844f-4d2c-b1a6-d6b2265c777b"
  },
  {
   "cell_type": "code",
   "execution_count": null,
   "metadata": {},
   "outputs": [],
   "source": [
    "mak_df_plot <- function(df){\n",
    "  df |> \n",
    "    filter(group != \"all\", n_lapses != 0) |> \n",
    "    select(-n_lapses) |> \n",
    "    pivot_longer(-c(\"outer_split_num\", \"group\", \"attribute\"),\n",
    "               names_to = \"metrics\", values_to = \"score\") |>\n",
    "    mutate(metrics = case_when(metrics == \"balaccuracy\" ~ \"balanced accuracy\",\n",
    "                               metrics != \"balaccuracy\" ~ metrics),\n",
    "           group = case_when(\n",
    "             group == \"Male\" ~ \"Privileged (Male)\",\n",
    "             group == \"Female\" ~ \"Unprivileged (Female)\",\n",
    "             group == \"white\" ~ \"Privileged (White)\",\n",
    "             group == \"non_white\" ~ \"Unprivileged (Person of Color)\",\n",
    "             group == \"above_poverty\" ~ \"Privileged (Above Poverty)\",\n",
    "             group == \"below_poverty\" ~ \"Unprivileged (Below Poverty)\",\n",
    "             group == \"younger\" ~ \"Privileged (Age 55 or older)\",\n",
    "             group == \"older\" ~ \"Unprivileged (Below 55)\"\n",
    "           ),\n",
    "           sig = case_when(\n",
    "             attribute == \"sex\" & metrics == \"auroc\" ~ \"**\",\n",
    "             attribute == \"sex\" & metrics == \"prauc\" ~ \"\",\n",
    "             attribute == \"sex\" & metrics == \"sensitivity\" ~ \"\",\n",
    "             attribute == \"sex\" & metrics == \"specificity\" ~ \"*\",\n",
    "             attribute == \"sex\" & metrics == \"ppv\" ~ \"\",\n",
    "             attribute == \"sex\" & metrics == \"balanced accuracy\" ~ \"\",\n",
    "             attribute == \"race\" & metrics == \"auroc\" ~ \"***\",\n",
    "             attribute == \"race\" & metrics == \"prauc\" ~ \"***\",\n",
    "             attribute == \"race\" & metrics == \"sensitivity\" ~ \"***\",\n",
    "             attribute == \"race\" & metrics == \"specificity\" ~ \"*\",\n",
    "             attribute == \"race\" & metrics == \"ppv\" ~ \"*\",\n",
    "             attribute == \"race\" & metrics == \"balanced accuracy\" ~ \"***\",\n",
    "             attribute == \"income\" & metrics == \"auroc\" ~ \"**\",\n",
    "             attribute == \"income\" & metrics == \"prauc\" ~ \"*\",\n",
    "             attribute == \"income\" & metrics == \"sensitivity\" ~ \"***\",\n",
    "             attribute == \"income\" & metrics == \"specificity\" ~ \"\",\n",
    "             attribute == \"income\" & metrics == \"ppv\" ~ \"\",\n",
    "             attribute == \"income\" & metrics == \"balanced accuracy\" ~ \"***\",\n",
    "             attribute == \"age\" & metrics == \"auroc\" ~ \"***\",\n",
    "             attribute == \"age\" & metrics == \"prauc\" ~ \"\",\n",
    "             attribute == \"age\" & metrics == \"sensitivity\" ~ \"**\",\n",
    "             attribute == \"age\" & metrics == \"specificity\" ~ \"*\",\n",
    "             attribute == \"age\" & metrics == \"ppv\" ~ \"*\",\n",
    "             attribute == \"age\" & metrics == \"balanced accuracy\" ~ \"***\"\n",
    "           ),\n",
    "           CI = case_when(\n",
    "             attribute == \"sex\" & metrics == \"auroc\" ~ \"CI[0.014, 0.074]\",\n",
    "             attribute == \"sex\" & metrics == \"prauc\" ~ \"CI[-0.080, 0.106]\",\n",
    "             attribute == \"sex\" & metrics == \"sensitivity\" ~ \"CI[-0.065, 0.106]\",\n",
    "             attribute == \"sex\" & metrics == \"specificity\" ~ \"CI[0.011, 0.101]\",\n",
    "             attribute == \"sex\" & metrics == \"ppv\" ~ \"CI[-0.071, 0.057]\",\n",
    "             attribute == \"sex\" & metrics == \"balanced accuracy\" ~ \"CI[-0.001, 0.078]\",\n",
    "             attribute == \"race\" & metrics == \"auroc\" ~ \"CI[0.127, 0.259]\",\n",
    "             attribute == \"race\" & metrics == \"prauc\" ~ \"CI[0.121, 0.324]\",\n",
    "             attribute == \"race\" & metrics == \"sensitivity\" ~ \"CI[0.132, 0.363]\",\n",
    "             attribute == \"race\" & metrics == \"specificity\" ~ \"CI[0.0103, 0.152]\",\n",
    "             attribute == \"race\" & metrics == \"ppv\" ~ \"CI[0.026, 0.182]\",\n",
    "             attribute == \"race\" & metrics == \"balanced accuracy\" ~ \"CI[0.121, 0.206]\",\n",
    "             attribute == \"income\" & metrics == \"auroc\" ~ \"CI[0.067, 0.196]\",\n",
    "             attribute == \"income\" & metrics == \"prauc\" ~ \"CI[0.016, 0.227]\",\n",
    "             attribute == \"income\" & metrics == \"sensitivity\" ~ \"CI[0.140, 0.344]\",\n",
    "             attribute == \"income\" & metrics == \"specificity\" ~ \"CI[-0.103, -0.008]\",\n",
    "             attribute == \"income\" & metrics == \"ppv\" ~ \"CI[-0.079, 0.089]\",\n",
    "             attribute == \"income\" & metrics == \"balanced accuracy\" ~ \"CI[0.047, 0.139]\",\n",
    "             attribute == \"age\" & metrics == \"auroc\" ~ \"CI[0.057, 0.138]\",\n",
    "             attribute == \"age\" & metrics == \"prauc\" ~ \"CI[-0.017, 0.187]\",\n",
    "             attribute == \"age\" & metrics == \"sensitivity\" ~ \"CI[0.063, 0.240]\",\n",
    "             attribute == \"age\" & metrics == \"specificity\" ~ \"CI[0.006, 0.106]\",\n",
    "             attribute == \"age\" & metrics == \"ppv\" ~ \"CI[0.011, 0.143]\",\n",
    "             attribute == \"age\" & metrics == \"balanced accuracy\" ~ \"CI[0.065, 0.149]\"\n",
    "           )\n",
    "           )|> \n",
    "    mutate(metrics = if_else(metrics == \"prauc\", \"auPR\", metrics)) |> \n",
    "    mutate(metrics = if_else(metrics == \"auroc\", \"auROC\", metrics))\n",
    "}"
   ],
   "id": "c02de20e-ea41-465e-809a-2fb82bf204e4"
  },
  {
   "cell_type": "code",
   "execution_count": null,
   "metadata": {},
   "outputs": [],
   "source": [
    "df_sex <- mak_df_plot(df_sex)\n",
    "df_race <- mak_df_plot(df_race)\n",
    "df_income <- mak_df_plot(df_income)\n",
    "df_age <- mak_df_plot(df_age)\n",
    "df <- mak_df_plot(df)"
   ],
   "id": "e2b8bae4-bb60-43a4-9b1b-63a6f34eba56"
  },
  {
   "cell_type": "markdown",
   "metadata": {},
   "source": [
    "### Construct Plots"
   ],
   "id": "588e7171-3ed5-44e4-a381-9af6a8249135"
  },
  {
   "cell_type": "code",
   "execution_count": null,
   "metadata": {},
   "outputs": [],
   "source": [
    "sig_marks <- c(\"\", \"*\", \"**\", \"***\", \"\")\n",
    "\n",
    "\n",
    "\n",
    "r1 <-     df_race |> \n",
    "      filter(metrics %in% c(\"auROC\", \"auPR\")) |> \n",
    "      ggplot(aes(x = \"\", y = score, fill = group)) +\n",
    "      geom_boxplot(outlier.size = .2) +\n",
    "      facet_wrap(~factor(metrics, levels = c(\"auROC\", \"auPR\"))) +\n",
    "      theme_classic() +\n",
    "      theme(axis.title.y = element_blank(),\n",
    "            axis.ticks.y = element_blank(),\n",
    "            axis.line.y = element_blank(),\n",
    "            axis.text.y = element_text(margin = margin(r = -12)),\n",
    "            axis.line.x = element_blank(),\n",
    "            axis.ticks.x = element_blank(),\n",
    "            plot.margin = margin(1, 1, 1, 1, \"pt\"),\n",
    "            legend.text = element_text(size=7),\n",
    "            legend.title=element_blank()) +\n",
    "      scale_fill_manual(values = c(\"#6CAA2F\", \"#C23E28\")) +\n",
    "      labs(x = NULL) +\n",
    "      guides(fill=guide_legend(nrow=2, byrow=TRUE)) +\n",
    "      geom_text(aes(label = sig, y = 0), color = \"blue\", size = 7)+ \n",
    "  theme(\n",
    "    panel.background = element_rect(fill='transparent'), #transparent panel bg\n",
    "    plot.background = element_rect(fill='transparent', color=NA), #transparent plot bg\n",
    "    panel.grid.major = element_blank(), #remove major gridlines\n",
    "    panel.grid.minor = element_blank(), #remove minor gridlines\n",
    "    legend.background = element_rect(fill='transparent'), #transparent legend bg\n",
    "    legend.box.background = element_rect(fill='transparent') #transparent legend panel\n",
    "  )\n",
    "    \n",
    "r2 <-     df_race |> \n",
    "      filter(metrics %in% c(\"sensitivity\", \"specificity\", \"ppv\")) |> \n",
    "      ggplot(aes(x = \"\", y = score, fill = group)) +\n",
    "      geom_boxplot(outlier.size = .2) +\n",
    "      facet_wrap(~factor(metrics, \n",
    "                         levels = c(\"specificity\", \"sensitivity\", \"ppv\"))) +\n",
    "      theme_classic() +\n",
    "      theme(axis.title.y = element_blank(),\n",
    "            axis.ticks.y = element_blank(),\n",
    "            axis.line.y = element_blank(),\n",
    "            axis.text.y = element_text(margin = margin(r = -12)),\n",
    "            axis.line.x = element_blank(),\n",
    "            axis.ticks.x = element_blank(),\n",
    "            plot.margin = margin(1, 1, 1, 1, \"pt\"),\n",
    "            legend.text = element_text(size=7),\n",
    "            legend.title=element_blank()) + \n",
    "      scale_fill_manual(values = c(\"#6CAA2F\", \"#C23E28\")) +\n",
    "      labs(x = NULL) +\n",
    "      guides(fill=guide_legend(nrow=2, byrow=TRUE)) +\n",
    "      geom_text(aes(label = sig, y = 0), color = \"blue\", size = 7)+ \n",
    "  theme(\n",
    "    panel.background = element_rect(fill='transparent'), #transparent panel bg\n",
    "    plot.background = element_rect(fill='transparent', color=NA), #transparent plot bg\n",
    "    panel.grid.major = element_blank(), #remove major gridlines\n",
    "    panel.grid.minor = element_blank(), #remove minor gridlines\n",
    "    legend.background = element_rect(fill='transparent'), #transparent legend bg\n",
    "    legend.box.background = element_rect(fill='transparent') #transparent legend panel\n",
    "  )\n",
    "\n",
    "r <- ggarrange(r1, r2, ncol = 1, common.legend = TRUE, legend = \"bottom\")"
   ],
   "id": "781495f3-fde9-48d6-974f-132cb4d081be"
  },
  {
   "cell_type": "code",
   "execution_count": null,
   "metadata": {},
   "outputs": [],
   "source": [
    "s1 <-     df_sex |> \n",
    "      filter(metrics %in% c(\"auROC\", \"auPR\")) |> \n",
    "      ggplot(aes(x = \"\", y = score, fill = group)) +\n",
    "      geom_boxplot(outlier.size = .2) +\n",
    "      facet_wrap(~factor(metrics, levels = c(\"auROC\", \"auPR\"))) +\n",
    "      theme_classic() +\n",
    "      theme(axis.title.y = element_blank(),\n",
    "            axis.ticks.y = element_blank(),\n",
    "            axis.line.y = element_blank(),\n",
    "            axis.text.y = element_text(margin = margin(r = -12)),\n",
    "            axis.line.x = element_blank(),\n",
    "            axis.ticks.x = element_blank(),\n",
    "            plot.margin = margin(1, 1, 1, 1, \"pt\"),\n",
    "            legend.text = element_text(size=7),\n",
    "            legend.title=element_blank()) +\n",
    "      scale_fill_manual(values = c(\"#6CAA2F\", \"#C23E28\")) +\n",
    "      labs(x = NULL) +\n",
    "      guides(fill=guide_legend(nrow=2, byrow=TRUE)) +\n",
    "      geom_text(aes(label = sig, y = 0), color = \"blue\", size = 7)+\n",
    "  theme(\n",
    "    panel.background = element_rect(fill='transparent'), #transparent panel bg\n",
    "    plot.background = element_rect(fill='transparent', color=NA), #transparent plot bg\n",
    "    panel.grid.major = element_blank(), #remove major gridlines\n",
    "    panel.grid.minor = element_blank(), #remove minor gridlines\n",
    "    legend.background = element_rect(fill='transparent'), #transparent legend bg\n",
    "    legend.box.background = element_rect(fill='transparent') #transparent legend panel\n",
    "  )\n",
    "    \n",
    "s2 <-     df_sex |> \n",
    "      filter(metrics %in% c(\"sensitivity\", \"specificity\", \"ppv\")) |> \n",
    "      ggplot(aes(x = \"\", y = score, fill = group)) +\n",
    "      geom_boxplot(outlier.size = .2) +\n",
    "      facet_wrap(~factor(metrics, \n",
    "                         levels = c(\"specificity\", \"sensitivity\", \"ppv\"))) +\n",
    "      theme_classic() +\n",
    "      theme(axis.title.y = element_blank(),\n",
    "            axis.ticks.y = element_blank(),\n",
    "            axis.line.y = element_blank(),\n",
    "            axis.text.y = element_text(margin = margin(r = -12)),\n",
    "            axis.line.x = element_blank(),\n",
    "            axis.ticks.x = element_blank(),\n",
    "            plot.margin = margin(1, 1, 1, 1, \"pt\"),\n",
    "            legend.text = element_text(size=7),\n",
    "            legend.title=element_blank()) + \n",
    "      scale_fill_manual(values = c(\"#6CAA2F\", \"#C23E28\")) +\n",
    "      labs(x = NULL) +\n",
    "      guides(fill=guide_legend(nrow=2, byrow=TRUE)) +\n",
    "      geom_text(aes(label = sig, y = 0), color = \"blue\", size = 7)+ \n",
    "  theme(\n",
    "    panel.background = element_rect(fill='transparent'), #transparent panel bg\n",
    "    plot.background = element_rect(fill='transparent', color=NA), #transparent plot bg\n",
    "    panel.grid.major = element_blank(), #remove major gridlines\n",
    "    panel.grid.minor = element_blank(), #remove minor gridlines\n",
    "    legend.background = element_rect(fill='transparent'), #transparent legend bg\n",
    "    legend.box.background = element_rect(fill='transparent') #transparent legend panel\n",
    "  )\n",
    "\n",
    "\n",
    "s <- ggarrange(s1, s2, ncol = 1, common.legend = TRUE, legend = \"bottom\")"
   ],
   "id": "1baff415-43fa-4672-b671-f93318ab16ae"
  },
  {
   "cell_type": "code",
   "execution_count": null,
   "metadata": {},
   "outputs": [
    {
     "output_type": "stream",
     "name": "stderr",
     "text": [
      "Warning: Removed 1 rows containing non-finite values (`stat_boxplot()`)."
     ]
    }
   ],
   "source": [
    "i1 <-     df_income |> \n",
    "      filter(metrics %in% c(\"auROC\", \"auPR\")) |> \n",
    "      ggplot(aes(x = \"\", y = score, fill = group)) +\n",
    "      geom_boxplot(outlier.size = .2) +\n",
    "      facet_wrap(~factor(metrics, levels = c(\"auROC\", \"auPR\"))) +\n",
    "      theme_classic() +\n",
    "      theme(axis.title.y = element_blank(),\n",
    "            axis.ticks.y = element_blank(),\n",
    "            axis.line.y = element_blank(),\n",
    "            axis.text.y = element_text(margin = margin(r = -12)),\n",
    "            axis.line.x = element_blank(),\n",
    "            axis.ticks.x = element_blank(),\n",
    "            plot.margin = margin(1, 1, 1, 1, \"pt\"),\n",
    "            legend.text = element_text(size=7),\n",
    "            legend.title=element_blank()) +\n",
    "      scale_fill_manual(values = c(\"#6CAA2F\", \"#C23E28\")) +\n",
    "      labs(x = NULL) +\n",
    "      guides(fill=guide_legend(nrow=2, byrow=TRUE)) +\n",
    "      geom_text(aes(label = sig, y = 0), color = \"blue\", size = 7)+ theme(legend.position=\"none\")+\n",
    "  theme(\n",
    "    panel.background = element_rect(fill='transparent'), #transparent panel bg\n",
    "    plot.background = element_rect(fill='transparent', color=NA), #transparent plot bg\n",
    "    panel.grid.major = element_blank(), #remove major gridlines\n",
    "    panel.grid.minor = element_blank(), #remove minor gridlines\n",
    "    legend.background = element_rect(fill='transparent'), #transparent legend bg\n",
    "    legend.box.background = element_rect(fill='transparent') #transparent legend panel\n",
    "  )\n",
    "    \n",
    "i2 <-     df_income |> \n",
    "      filter(metrics %in% c(\"sensitivity\", \"specificity\", \"ppv\")) |> \n",
    "      ggplot(aes(x = \"\", y = score, fill = group)) +\n",
    "      geom_boxplot(outlier.size = .2) +\n",
    "      facet_wrap(~factor(metrics, \n",
    "                         levels = c(\"specificity\", \"sensitivity\", \"ppv\"))) +\n",
    "      theme_classic() +\n",
    "      theme(axis.title.y = element_blank(),\n",
    "            axis.ticks.y = element_blank(),\n",
    "            axis.line.y = element_blank(),\n",
    "            axis.text.y = element_text(margin = margin(r = -12)),\n",
    "            axis.line.x = element_blank(),\n",
    "            axis.ticks.x = element_blank(),\n",
    "            plot.margin = margin(1, 1, 1, 1, \"pt\"),\n",
    "            legend.text = element_text(size=7),\n",
    "            legend.title=element_blank()) + \n",
    "      scale_fill_manual(values = c(\"#6CAA2F\", \"#C23E28\")) +\n",
    "      labs(x = NULL) +\n",
    "      guides(fill=guide_legend(nrow=2, byrow=TRUE)) +\n",
    "      geom_text(aes(label = sig, y = 0), color = \"blue\", size = 7)+ theme(legend.position=\"none\")+\n",
    "  theme(\n",
    "    panel.background = element_rect(fill='transparent'), #transparent panel bg\n",
    "    plot.background = element_rect(fill='transparent', color=NA), #transparent plot bg\n",
    "    panel.grid.major = element_blank(), #remove major gridlines\n",
    "    panel.grid.minor = element_blank(), #remove minor gridlines\n",
    "    legend.background = element_rect(fill='transparent'), #transparent legend bg\n",
    "    legend.box.background = element_rect(fill='transparent') #transparent legend panel\n",
    "  )\n",
    "\n",
    "\n",
    "i <- ggarrange(i1, i2, ncol = 1, common.legend = TRUE, legend = \"bottom\")"
   ],
   "id": "72fda2cf-9202-4e24-8f35-aee8dcc5a3e8"
  },
  {
   "cell_type": "code",
   "execution_count": null,
   "metadata": {},
   "outputs": [],
   "source": [
    "a1 <-     df_age |> \n",
    "      filter(metrics %in% c(\"auROC\", \"auPR\")) |> \n",
    "      ggplot(aes(x = \"\", y = score, fill = group)) +\n",
    "      geom_boxplot(outlier.size = .2) +\n",
    "      facet_wrap(~factor(metrics, levels = c(\"auROC\", \"auPR\"))) +\n",
    "      theme_classic() +\n",
    "      theme(axis.title.y = element_blank(),\n",
    "            axis.ticks.y = element_blank(),\n",
    "            axis.line.y = element_blank(),\n",
    "            axis.text.y = element_text(margin = margin(r = -12)),\n",
    "            axis.line.x = element_blank(),\n",
    "            axis.ticks.x = element_blank(),\n",
    "            plot.margin = margin(1, 1, 1, 1, \"pt\"),\n",
    "            legend.text = element_text(size=7),\n",
    "            legend.title=element_blank()) +\n",
    "      scale_fill_manual(values = c(\"#6CAA2F\", \"#C23E28\")) +\n",
    "      labs(x = NULL) +\n",
    "      guides(fill=guide_legend(nrow=2, byrow=TRUE)) +\n",
    "      geom_text(aes(label = sig, y = 0), color = \"blue\", size = 7)+ theme(legend.position=\"none\")+\n",
    "  theme(\n",
    "    panel.background = element_rect(fill='transparent'), #transparent panel bg\n",
    "    plot.background = element_rect(fill='transparent', color=NA), #transparent plot bg\n",
    "    panel.grid.major = element_blank(), #remove major gridlines\n",
    "    panel.grid.minor = element_blank(), #remove minor gridlines\n",
    "    legend.background = element_rect(fill='transparent'), #transparent legend bg\n",
    "    legend.box.background = element_rect(fill='transparent') #transparent legend panel\n",
    "  )\n",
    "    \n",
    "a2 <-     df_age  |> \n",
    "      filter(metrics %in% c(\"sensitivity\", \"specificity\", \"ppv\")) |> \n",
    "      ggplot(aes(x = \"\", y = score, fill = group)) +\n",
    "      geom_boxplot(outlier.size = .2) +\n",
    "      facet_wrap(~factor(metrics, \n",
    "                         levels = c(\"specificity\", \"sensitivity\", \"ppv\"))) +\n",
    "      theme_classic() +\n",
    "      theme(axis.title.y = element_blank(),\n",
    "            axis.ticks.y = element_blank(),\n",
    "            axis.line.y = element_blank(),\n",
    "            axis.text.y = element_text(margin = margin(r = -12)),\n",
    "            axis.line.x = element_blank(),\n",
    "            axis.ticks.x = element_blank(),\n",
    "            plot.margin = margin(1, 1, 1, 1, \"pt\"),\n",
    "            legend.text = element_text(size=7),\n",
    "            legend.title=element_blank()) + \n",
    "      scale_fill_manual(values = c(\"#6CAA2F\", \"#C23E28\")) +\n",
    "      labs(x = NULL) +\n",
    "      guides(fill=guide_legend(nrow=2, byrow=TRUE)) +\n",
    "      geom_text(aes(label = sig, y = 0), color = \"blue\", size = 7)+ theme(legend.position=\"none\")+\n",
    "  theme(\n",
    "    panel.background = element_rect(fill='transparent'), #transparent panel bg\n",
    "    plot.background = element_rect(fill='transparent', color=NA), #transparent plot bg\n",
    "    panel.grid.major = element_blank(), #remove major gridlines\n",
    "    panel.grid.minor = element_blank(), #remove minor gridlines\n",
    "    legend.background = element_rect(fill='transparent'), #transparent legend bg\n",
    "    legend.box.background = element_rect(fill='transparent') #transparent legend panel\n",
    "  )\n",
    "\n",
    "\n",
    "a <- ggarrange(a1, a2, ncol = 1, common.legend = TRUE, legend = \"bottom\")"
   ],
   "id": "6884da04-ec08-4bbe-9485-9813215d702d"
  },
  {
   "cell_type": "code",
   "execution_count": null,
   "metadata": {},
   "outputs": [],
   "source": [
    "sr <- ggarrange(\n",
    "  annotate_figure(r, top = text_grob(\"Race\", face = \"bold\")),\n",
    "  annotate_figure(s, top = text_grob(\"Sex\", face = \"bold\"))\n",
    ")\n",
    "\n",
    "ia <- ggarrange(\n",
    "  annotate_figure(i, top = text_grob(\"Income\", face = \"bold\")),\n",
    "  annotate_figure(a, top = text_grob(\"Age\", face = \"bold\"))\n",
    ")"
   ],
   "id": "932781db-9ae4-4c10-b513-bb563defb780"
  },
  {
   "cell_type": "code",
   "execution_count": null,
   "metadata": {},
   "outputs": [
    {
     "output_type": "stream",
     "name": "stderr",
     "text": [
      "Warning: Removed 1 rows containing non-finite values (`stat_boxplot()`)."
     ]
    }
   ],
   "source": [
    "#set printing defaults for ggsave\n",
    "gg_width <-  4\n",
    "\n",
    "\n",
    "#printing\n",
    "\n",
    "ggsave(\"_presentations/poster1/images/barplot_race1.png\", r1,  bg=\"transparent\", width = gg_width, height = gg_width)\n",
    "ggsave(\"_presentations/poster1/images/barplot_race2.png\", r2, bg=\"transparent\", width = gg_width, height = gg_width)\n",
    "ggsave(\"_presentations/poster1/images/barplot_sex1.png\", s1,  bg=\"transparent\", width = gg_width, height = gg_width)\n",
    "ggsave(\"_presentations/poster1/images/barplot_sex2.png\", s2, bg=\"transparent\", width = gg_width, height = gg_width)\n",
    "ggsave(\"_presentations/poster1/images/barplot_income1.png\", i1,  bg=\"transparent\", width = gg_width, height = gg_width)\n",
    "ggsave(\"_presentations/poster1/images/barplot_income2.png\", i2, bg=\"transparent\", width = gg_width, height = gg_width)"
   ],
   "id": "e339968f-4848-41d0-a85c-6c23bd03ccee"
  }
 ],
 "nbformat": 4,
 "nbformat_minor": 5,
 "metadata": {}
}
