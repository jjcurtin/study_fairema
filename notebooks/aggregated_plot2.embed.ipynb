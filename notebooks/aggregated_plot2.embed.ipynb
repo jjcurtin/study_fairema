{
 "cells": [
  {
   "cell_type": "markdown",
   "metadata": {},
   "source": [
    "# Agregated metrics plot\n",
    "\n",
    "Coco Yu\n",
    "\n",
    "### Set Up Environment\n",
    "\n",
    "Set up parameters as variables"
   ],
   "id": "0091f445-e692-454a-86bf-8ee641e8d754"
  },
  {
   "cell_type": "code",
   "execution_count": null,
   "metadata": {},
   "outputs": [
    {
     "output_type": "stream",
     "name": "stdout",
     "text": [
      "[1] \"ema\""
     ]
    },
    {
     "output_type": "stream",
     "name": "stdout",
     "text": [
      "[1] \"1day\""
     ]
    },
    {
     "output_type": "stream",
     "name": "stdout",
     "text": [
      "[1] 0"
     ]
    },
    {
     "output_type": "stream",
     "name": "stdout",
     "text": [
      "[1] \"v5\""
     ]
    },
    {
     "output_type": "stream",
     "name": "stdout",
     "text": [
      "[1] \"nested\""
     ]
    },
    {
     "output_type": "stream",
     "name": "stdout",
     "text": [
      "[1] \"main\""
     ]
    }
   ],
   "source": [
    "(study <- params$study)"
   ],
   "id": "2f61fe07-9040-4b4c-ab9e-76a9f7f16d9b"
  },
  {
   "cell_type": "markdown",
   "metadata": {},
   "source": [
    "Function conflicts"
   ],
   "id": "f4c5186b-1df9-478c-ac91-1970d8c16a20"
  },
  {
   "cell_type": "code",
   "execution_count": null,
   "metadata": {},
   "outputs": [
    {
     "output_type": "stream",
     "name": "stderr",
     "text": [
      "ℹ SHA-1 hash of file is \"77e91675366f10788c6bcb59fa1cfc9ee0c75281\""
     ]
    }
   ],
   "source": [
    "# source\n",
    "devtools::source_url(\"https://github.com/jjcurtin/lab_support/blob/main/fun_ml.R?raw=true\")"
   ],
   "id": "a036b0fc-91e1-4585-8489-8ba3ecc41a8e"
  },
  {
   "cell_type": "markdown",
   "metadata": {},
   "source": [
    "Chunk Defaults"
   ],
   "id": "74fa2cfe-e74d-430f-91d1-7a2515666d0d"
  },
  {
   "cell_type": "code",
   "execution_count": null,
   "metadata": {},
   "outputs": [],
   "source": [
    "knitr::opts_chunk$set(attr.output='style=\"max-height: 500px;\"')\n",
    "\n",
    "options(tibble.width = Inf)\n",
    "options(tibble.print_max = Inf)"
   ],
   "id": "bc37bc40-9e16-4f0c-b02b-8d53c7d8f057"
  },
  {
   "cell_type": "markdown",
   "metadata": {},
   "source": [
    "Packages for script"
   ],
   "id": "e1b30da7-e229-4682-8f96-48bc2fe1e551"
  },
  {
   "cell_type": "code",
   "execution_count": null,
   "metadata": {},
   "outputs": [
    {
     "output_type": "stream",
     "name": "stderr",
     "text": [
      "── Attaching core tidyverse packages ──────────────────────── tidyverse 2.0.0 ──\n",
      "✔ dplyr     1.1.3     ✔ readr     2.1.4\n",
      "✔ forcats   1.0.0     ✔ stringr   1.5.0\n",
      "✔ ggplot2   3.4.3     ✔ tibble    3.2.1\n",
      "✔ lubridate 1.9.2     ✔ tidyr     1.3.0\n",
      "✔ purrr     1.0.2     \n",
      "── Conflicts ────────────────────────────────────────── tidyverse_conflicts() ──\n",
      "✖ dplyr::filter() masks stats::filter()\n",
      "✖ dplyr::lag()    masks stats::lag()\n",
      "ℹ Use the conflicted package (<http://conflicted.r-lib.org/>) to force all conflicts to become errors"
     ]
    }
   ],
   "source": [
    "library(tidyverse)"
   ],
   "id": "07c012ee-fba1-4040-ad22-0cab640e99d6"
  },
  {
   "cell_type": "markdown",
   "metadata": {},
   "source": [
    "Source support functions"
   ],
   "id": "7311f721-1bf8-4f68-86c0-758084265afd"
  },
  {
   "cell_type": "code",
   "execution_count": null,
   "metadata": {},
   "outputs": [
    {
     "output_type": "stream",
     "name": "stderr",
     "text": [
      "ℹ SHA-1 hash of file is \"a58e57da996d1b70bb9a5b58241325d6fd78890f\""
     ]
    }
   ],
   "source": [
    "devtools::source_url(\"https://github.com/jjcurtin/lab_support/blob/main/format_path.R?raw=true\")"
   ],
   "id": "71fe14f4-7162-4569-aef9-4a1d1bbff115"
  },
  {
   "cell_type": "markdown",
   "metadata": {},
   "source": [
    "Absolute paths"
   ],
   "id": "be9f67b3-0abd-436b-9daf-b4d9e199be5d"
  },
  {
   "cell_type": "code",
   "execution_count": null,
   "metadata": {},
   "outputs": [],
   "source": [
    "path_fairema <- format_path(str_c(\"studydata/risk/data_processed/fairema\"))"
   ],
   "id": "aeeba431-d8f4-4c9d-a863-456b55b25a1b"
  },
  {
   "cell_type": "markdown",
   "metadata": {},
   "source": [
    "### Read in data"
   ],
   "id": "90e0fc5d-a66b-4c6f-8463-f0f5206ee1d5"
  },
  {
   "cell_type": "code",
   "execution_count": null,
   "metadata": {},
   "outputs": [],
   "source": [
    "df_sex <- read_csv(here::here(path_fairema, str_c(\"outer_preds_perf_\", \"sex\", \"_\", window, \n",
    "                                           \"_\", lead, \"_\", version, \"_\", cv, \"_\", model,\n",
    "                                           \".csv\")),\n",
    "                      col_types = cols())\n",
    "df_sex$attribute <- \"sex\"\n",
    "\n",
    "df_race <- read_csv(here::here(path_fairema, str_c(\"outer_preds_perf_\", \"race\", \"_\", window, \n",
    "                                           \"_\", lead, \"_\", version, \"_\", cv, \"_\", model,\n",
    "                                           \".csv\")),\n",
    "                    col_types = cols())\n",
    "df_race$attribute <- \"race\"\n",
    "\n",
    "df_income <- read_csv(here::here(path_fairema, str_c(\"outer_preds_perf_\", \"income\", \"_\", window, \n",
    "                                           \"_\", lead, \"_\", version, \"_\", cv, \"_\", model,\n",
    "                                           \".csv\")),\n",
    "                      col_types = cols())\n",
    "df_income$attribute <- \"income\"\n",
    "\n",
    "df_age <- read_csv(here::here(path_fairema, str_c(\"outer_preds_perf_\", \"age\", \"_\", window, \n",
    "                                           \"_\", lead, \"_\", version, \"_\", cv, \"_\", model,\n",
    "                                           \".csv\")),\n",
    "                   col_types = cols())\n",
    "df_age$attribute <- \"age\"\n",
    "\n",
    "df <- rbind(df_sex, df_race, df_income, df_age)"
   ],
   "id": "abf30072-4066-4e5e-a119-d882a475f35c"
  },
  {
   "cell_type": "markdown",
   "metadata": {},
   "source": [
    "### Make Dataframes for plots"
   ],
   "id": "4c83a618-303c-44d2-a4a3-80e140ce26e5"
  },
  {
   "cell_type": "code",
   "execution_count": null,
   "metadata": {},
   "outputs": [],
   "source": [
    "mak_df_plot <- function(df){\n",
    "  df |> \n",
    "    filter(group != \"all\", n_lapses != 0) |> \n",
    "    select(-n_lapses) |> \n",
    "    pivot_longer(-c(\"outer_split_num\", \"group\", \"attribute\"),\n",
    "               names_to = \"metrics\", values_to = \"score\") |>\n",
    "    mutate(metrics = case_when(metrics == \"balaccuracy\" ~ \"balanced accuracy\",\n",
    "                               metrics != \"balaccuracy\" ~ metrics),\n",
    "           group = case_when(\n",
    "             group == \"Male\" ~ \"Privileged (Male)\",\n",
    "             group == \"Female\" ~ \"Unprivileged (Female)\",\n",
    "             group == \"white\" ~ \"Privileged (White)\",\n",
    "             group == \"non_white\" ~ \"Unprivileged (Person of Color)\",\n",
    "             group == \"above_poverty\" ~ \"Privileged (Above Poverty)\",\n",
    "             group == \"below_poverty\" ~ \"Unprivileged (Below Poverty)\",\n",
    "             group == \"younger\" ~ \"Privileged (Age 55 or older)\",\n",
    "             group == \"older\" ~ \"Unprivileged (Below 55)\"\n",
    "           ),\n",
    "           sig = case_when(\n",
    "             attribute == \"sex\" & metrics == \"auroc\" ~ \"**\",\n",
    "             attribute == \"sex\" & metrics == \"prauc\" ~ \"\",\n",
    "             attribute == \"sex\" & metrics == \"sensitivity\" ~ \"\",\n",
    "             attribute == \"sex\" & metrics == \"specificity\" ~ \"*\",\n",
    "             attribute == \"sex\" & metrics == \"ppv\" ~ \"\",\n",
    "             attribute == \"sex\" & metrics == \"balanced accuracy\" ~ \"\",\n",
    "             attribute == \"race\" & metrics == \"auroc\" ~ \"***\",\n",
    "             attribute == \"race\" & metrics == \"prauc\" ~ \"***\",\n",
    "             attribute == \"race\" & metrics == \"sensitivity\" ~ \"***\",\n",
    "             attribute == \"race\" & metrics == \"specificity\" ~ \"*\",\n",
    "             attribute == \"race\" & metrics == \"ppv\" ~ \"*\",\n",
    "             attribute == \"race\" & metrics == \"balanced accuracy\" ~ \"***\",\n",
    "             attribute == \"income\" & metrics == \"auroc\" ~ \"**\",\n",
    "             attribute == \"income\" & metrics == \"prauc\" ~ \"*\",\n",
    "             attribute == \"income\" & metrics == \"sensitivity\" ~ \"***\",\n",
    "             attribute == \"income\" & metrics == \"specificity\" ~ \"\",\n",
    "             attribute == \"income\" & metrics == \"ppv\" ~ \"\",\n",
    "             attribute == \"income\" & metrics == \"balanced accuracy\" ~ \"***\",\n",
    "             attribute == \"age\" & metrics == \"auroc\" ~ \"***\",\n",
    "             attribute == \"age\" & metrics == \"prauc\" ~ \"\",\n",
    "             attribute == \"age\" & metrics == \"sensitivity\" ~ \"**\",\n",
    "             attribute == \"age\" & metrics == \"specificity\" ~ \"*\",\n",
    "             attribute == \"age\" & metrics == \"ppv\" ~ \"*\",\n",
    "             attribute == \"age\" & metrics == \"balanced accuracy\" ~ \"***\"\n",
    "           ),\n",
    "           CI = case_when(\n",
    "             attribute == \"sex\" & metrics == \"auroc\" ~ \"CI[0.014, 0.074]\",\n",
    "             attribute == \"sex\" & metrics == \"prauc\" ~ \"CI[-0.080, 0.106]\",\n",
    "             attribute == \"sex\" & metrics == \"sensitivity\" ~ \"CI[-0.065, 0.106]\",\n",
    "             attribute == \"sex\" & metrics == \"specificity\" ~ \"CI[0.011, 0.101]\",\n",
    "             attribute == \"sex\" & metrics == \"ppv\" ~ \"CI[-0.071, 0.057]\",\n",
    "             attribute == \"sex\" & metrics == \"balanced accuracy\" ~ \"CI[-0.001, 0.078]\",\n",
    "             attribute == \"race\" & metrics == \"auroc\" ~ \"CI[0.127, 0.259]\",\n",
    "             attribute == \"race\" & metrics == \"prauc\" ~ \"CI[0.121, 0.324]\",\n",
    "             attribute == \"race\" & metrics == \"sensitivity\" ~ \"CI[0.132, 0.363]\",\n",
    "             attribute == \"race\" & metrics == \"specificity\" ~ \"CI[0.0103, 0.152]\",\n",
    "             attribute == \"race\" & metrics == \"ppv\" ~ \"CI[0.026, 0.182]\",\n",
    "             attribute == \"race\" & metrics == \"balanced accuracy\" ~ \"CI[0.121, 0.206]\",\n",
    "             attribute == \"income\" & metrics == \"auroc\" ~ \"CI[0.067, 0.196]\",\n",
    "             attribute == \"income\" & metrics == \"prauc\" ~ \"CI[0.016, 0.227]\",\n",
    "             attribute == \"income\" & metrics == \"sensitivity\" ~ \"CI[0.140, 0.344]\",\n",
    "             attribute == \"income\" & metrics == \"specificity\" ~ \"CI[-0.103, -0.008]\",\n",
    "             attribute == \"income\" & metrics == \"ppv\" ~ \"CI[-0.079, 0.089]\",\n",
    "             attribute == \"income\" & metrics == \"balanced accuracy\" ~ \"CI[0.047, 0.139]\",\n",
    "             attribute == \"age\" & metrics == \"auroc\" ~ \"CI[0.057, 0.138]\",\n",
    "             attribute == \"age\" & metrics == \"prauc\" ~ \"CI[-0.017, 0.187]\",\n",
    "             attribute == \"age\" & metrics == \"sensitivity\" ~ \"CI[0.063, 0.240]\",\n",
    "             attribute == \"age\" & metrics == \"specificity\" ~ \"CI[0.006, 0.106]\",\n",
    "             attribute == \"age\" & metrics == \"ppv\" ~ \"CI[0.011, 0.143]\",\n",
    "             attribute == \"age\" & metrics == \"balanced accuracy\" ~ \"CI[0.065, 0.149]\"\n",
    "           )\n",
    "           )|> \n",
    "    mutate(metrics = if_else(metrics == \"prauc\", \"auPR\", metrics)) |> \n",
    "    mutate(metrics = if_else(metrics == \"auroc\", \"auROC\", metrics))\n",
    "}"
   ],
   "id": "fc2bacda-6b84-4f14-93c1-194e0ea42452"
  },
  {
   "cell_type": "code",
   "execution_count": null,
   "metadata": {},
   "outputs": [],
   "source": [
    "df_sex <- mak_df_plot(df_sex)\n",
    "df_race <- mak_df_plot(df_race)\n",
    "df_income <- mak_df_plot(df_income)\n",
    "df_age <- mak_df_plot(df_age)\n",
    "df <- mak_df_plot(df)"
   ],
   "id": "38ceea51-e917-4d77-b191-de5e54539f92"
  },
  {
   "cell_type": "markdown",
   "metadata": {},
   "source": [
    "### Construct Plots"
   ],
   "id": "b4ac1505-ef12-450f-a3c8-bac62d41b8bf"
  },
  {
   "cell_type": "code",
   "execution_count": null,
   "metadata": {},
   "outputs": [],
   "source": [
    "sig_marks <- c(\"\", \"*\", \"**\", \"***\", \"\")\n",
    "\n",
    "\n",
    "\n",
    "r1 <-     df_race |> \n",
    "      filter(metrics %in% c(\"auROC\", \"auPR\")) |> \n",
    "      ggplot(aes(x = \"\", y = score, fill = group)) +\n",
    "      geom_boxplot(outlier.size = .2) +\n",
    "      facet_wrap(~factor(metrics, levels = c(\"auROC\", \"auPR\"))) +\n",
    "      theme_classic() +\n",
    "      theme(axis.title.y = element_blank(),\n",
    "            axis.ticks.y = element_blank(),\n",
    "            axis.line.y = element_blank(),\n",
    "            axis.text.y = element_text(margin = margin(r = -12)),\n",
    "            axis.line.x = element_blank(),\n",
    "            axis.ticks.x = element_blank(),\n",
    "            plot.margin = margin(1, 1, 1, 1, \"pt\"),\n",
    "            legend.title=element_blank()) +\n",
    "      scale_fill_manual(values = c(\"#6CAA2F\", \"#C23E28\")) +\n",
    "      labs(x = NULL) +\n",
    "      guides(fill=guide_legend(nrow=2, byrow=TRUE)) +\n",
    "      geom_text(aes(label = sig, y = 0), color = \"blue\", size = 7)+ theme(legend.position=\"none\")+\n",
    "  theme(\n",
    "    panel.background = element_rect(fill='transparent'), #transparent panel bg\n",
    "    plot.background = element_rect(fill='transparent', color=NA), #transparent plot bg\n",
    "    panel.grid.major = element_blank(), #remove major gridlines\n",
    "    panel.grid.minor = element_blank(), #remove minor gridlines\n",
    "    legend.background = element_rect(fill='transparent'), #transparent legend bg\n",
    "    legend.box.background = element_rect(fill='transparent') #transparent legend panel\n",
    "  )\n",
    "    \n",
    "r2 <-     df_race |> \n",
    "      filter(metrics %in% c(\"sensitivity\", \"specificity\", \"ppv\")) |> \n",
    "      ggplot(aes(x = \"\", y = score, fill = group)) +\n",
    "      geom_boxplot(outlier.size = .2) +\n",
    "      facet_wrap(~factor(metrics, \n",
    "                         levels = c(\"specificity\", \"sensitivity\", \"ppv\"))) +\n",
    "      theme_classic() +\n",
    "      theme(axis.title.y = element_blank(),\n",
    "            axis.ticks.y = element_blank(),\n",
    "            axis.line.y = element_blank(),\n",
    "            axis.text.y = element_text(margin = margin(r = -12)),\n",
    "            axis.line.x = element_blank(),\n",
    "            axis.ticks.x = element_blank(),\n",
    "            plot.margin = margin(1, 1, 1, 1, \"pt\"),\n",
    "            legend.title=element_blank()) + \n",
    "      scale_fill_manual(values = c(\"#6CAA2F\", \"#C23E28\")) +\n",
    "      labs(x = NULL) +\n",
    "      guides(fill=guide_legend(nrow=2, byrow=TRUE)) +\n",
    "      geom_text(aes(label = sig, y = 0), color = \"blue\", size = 7)+ theme(legend.position=\"none\")+\n",
    "  theme(\n",
    "    panel.background = element_rect(fill='transparent'), #transparent panel bg\n",
    "    plot.background = element_rect(fill='transparent', color=NA), #transparent plot bg\n",
    "    panel.grid.major = element_blank(), #remove major gridlines\n",
    "    panel.grid.minor = element_blank(), #remove minor gridlines\n",
    "    legend.background = element_rect(fill='transparent'), #transparent legend bg\n",
    "    legend.box.background = element_rect(fill='transparent') #transparent legend panel\n",
    "  )"
   ],
   "id": "27cbdfd0-c9f5-4cec-afa1-b04b08d35cd1"
  },
  {
   "cell_type": "code",
   "execution_count": null,
   "metadata": {},
   "outputs": [],
   "source": [
    "s1 <-     df_sex |> \n",
    "      filter(metrics %in% c(\"auROC\", \"auPR\")) |> \n",
    "      ggplot(aes(x = \"\", y = score, fill = group)) +\n",
    "      geom_boxplot(outlier.size = .2) +\n",
    "      facet_wrap(~factor(metrics, levels = c(\"auROC\", \"auPR\"))) +\n",
    "      theme_classic() +\n",
    "      theme(axis.title.y = element_blank(),\n",
    "            axis.ticks.y = element_blank(),\n",
    "            axis.line.y = element_blank(),\n",
    "            axis.text.y = element_text(margin = margin(r = -12)),\n",
    "            axis.line.x = element_blank(),\n",
    "            axis.ticks.x = element_blank(),\n",
    "            plot.margin = margin(1, 1, 1, 1, \"pt\"),\n",
    "            legend.title=element_blank()) +\n",
    "      scale_fill_manual(values = c(\"#6CAA2F\", \"#C23E28\")) +\n",
    "      labs(x = NULL) +\n",
    "      guides(fill=guide_legend(nrow=2, byrow=TRUE)) +\n",
    "      geom_text(aes(label = sig, y = 0), color = \"blue\", size = 7)+ theme(legend.position=\"none\")+\n",
    "  theme(\n",
    "    panel.background = element_rect(fill='transparent'), #transparent panel bg\n",
    "    plot.background = element_rect(fill='transparent', color=NA), #transparent plot bg\n",
    "    panel.grid.major = element_blank(), #remove major gridlines\n",
    "    panel.grid.minor = element_blank(), #remove minor gridlines\n",
    "    legend.background = element_rect(fill='transparent'), #transparent legend bg\n",
    "    legend.box.background = element_rect(fill='transparent') #transparent legend panel\n",
    "  )\n",
    "    \n",
    "s2 <-     df_sex |> \n",
    "      filter(metrics %in% c(\"sensitivity\", \"specificity\", \"ppv\")) |> \n",
    "      ggplot(aes(x = \"\", y = score, fill = group)) +\n",
    "      geom_boxplot(outlier.size = .2) +\n",
    "      facet_wrap(~factor(metrics, \n",
    "                         levels = c(\"specificity\", \"sensitivity\", \"ppv\"))) +\n",
    "      theme_classic() +\n",
    "      theme(axis.title.y = element_blank(),\n",
    "            axis.ticks.y = element_blank(),\n",
    "            axis.line.y = element_blank(),\n",
    "            axis.text.y = element_text(margin = margin(r = -12)),\n",
    "            axis.line.x = element_blank(),\n",
    "            axis.ticks.x = element_blank(),\n",
    "            plot.margin = margin(1, 1, 1, 1, \"pt\"),\n",
    "            legend.title=element_blank()) + \n",
    "      scale_fill_manual(values = c(\"#6CAA2F\", \"#C23E28\")) +\n",
    "      labs(x = NULL) +\n",
    "      guides(fill=guide_legend(nrow=2, byrow=TRUE)) +\n",
    "      geom_text(aes(label = sig, y = 0), color = \"blue\", size = 7)+ theme(legend.position=\"none\")+\n",
    "  theme(\n",
    "    panel.background = element_rect(fill='transparent'), #transparent panel bg\n",
    "    plot.background = element_rect(fill='transparent', color=NA), #transparent plot bg\n",
    "    panel.grid.major = element_blank(), #remove major gridlines\n",
    "    panel.grid.minor = element_blank(), #remove minor gridlines\n",
    "    legend.background = element_rect(fill='transparent'), #transparent legend bg\n",
    "    legend.box.background = element_rect(fill='transparent') #transparent legend panel\n",
    "  )"
   ],
   "id": "a58f2723-6c9a-4655-a82f-801cd4645eb3"
  },
  {
   "cell_type": "code",
   "execution_count": null,
   "metadata": {},
   "outputs": [],
   "source": [
    "i1 <-     df_income |> \n",
    "      filter(metrics %in% c(\"auROC\", \"auPR\")) |> \n",
    "      ggplot(aes(x = \"\", y = score, fill = group)) +\n",
    "      geom_boxplot(outlier.size = .2) +\n",
    "      facet_wrap(~factor(metrics, levels = c(\"auROC\", \"auPR\"))) +\n",
    "      theme_classic() +\n",
    "      theme(axis.title.y = element_blank(),\n",
    "            axis.ticks.y = element_blank(),\n",
    "            axis.line.y = element_blank(),\n",
    "            axis.text.y = element_text(margin = margin(r = -12)),\n",
    "            axis.line.x = element_blank(),\n",
    "            axis.ticks.x = element_blank(),\n",
    "            plot.margin = margin(1, 1, 1, 1, \"pt\"),\n",
    "            legend.title=element_blank()) +\n",
    "      scale_fill_manual(values = c(\"#6CAA2F\", \"#C23E28\")) +\n",
    "      labs(x = NULL) +\n",
    "      guides(fill=guide_legend(nrow=2, byrow=TRUE)) +\n",
    "      geom_text(aes(label = sig, y = 0), color = \"blue\", size = 7)+ theme(legend.position=\"none\")+\n",
    "  theme(\n",
    "    panel.background = element_rect(fill='transparent'), #transparent panel bg\n",
    "    plot.background = element_rect(fill='transparent', color=NA), #transparent plot bg\n",
    "    panel.grid.major = element_blank(), #remove major gridlines\n",
    "    panel.grid.minor = element_blank(), #remove minor gridlines\n",
    "    legend.background = element_rect(fill='transparent'), #transparent legend bg\n",
    "    legend.box.background = element_rect(fill='transparent') #transparent legend panel\n",
    "  )\n",
    "    \n",
    "i2 <-     df_income |> \n",
    "      filter(metrics %in% c(\"sensitivity\", \"specificity\", \"ppv\")) |> \n",
    "      ggplot(aes(x = \"\", y = score, fill = group)) +\n",
    "      geom_boxplot(outlier.size = .2) +\n",
    "      facet_wrap(~factor(metrics, \n",
    "                         levels = c(\"specificity\", \"sensitivity\", \"ppv\"))) +\n",
    "      theme_classic() +\n",
    "      theme(axis.title.y = element_blank(),\n",
    "            axis.ticks.y = element_blank(),\n",
    "            axis.line.y = element_blank(),\n",
    "            axis.text.y = element_text(margin = margin(r = -12)),\n",
    "            axis.line.x = element_blank(),\n",
    "            axis.ticks.x = element_blank(),\n",
    "            plot.margin = margin(1, 1, 1, 1, \"pt\"),\n",
    "            legend.title=element_blank()) + \n",
    "      scale_fill_manual(values = c(\"#6CAA2F\", \"#C23E28\")) +\n",
    "      labs(x = NULL) +\n",
    "      guides(fill=guide_legend(nrow=2, byrow=TRUE)) +\n",
    "      geom_text(aes(label = sig, y = 0), color = \"blue\", size = 7)+ theme(legend.position=\"none\")+\n",
    "  theme(\n",
    "    panel.background = element_rect(fill='transparent'), #transparent panel bg\n",
    "    plot.background = element_rect(fill='transparent', color=NA), #transparent plot bg\n",
    "    panel.grid.major = element_blank(), #remove major gridlines\n",
    "    panel.grid.minor = element_blank(), #remove minor gridlines\n",
    "    legend.background = element_rect(fill='transparent'), #transparent legend bg\n",
    "    legend.box.background = element_rect(fill='transparent') #transparent legend panel\n",
    "  )"
   ],
   "id": "ffce69fb-fc75-4827-a427-d03852b871a8"
  },
  {
   "cell_type": "code",
   "execution_count": null,
   "metadata": {},
   "outputs": [],
   "source": [
    "a1 <-     df_age |> \n",
    "      filter(metrics %in% c(\"auROC\", \"auPR\")) |> \n",
    "      ggplot(aes(x = \"\", y = score, fill = group)) +\n",
    "      geom_boxplot(outlier.size = .2) +\n",
    "      facet_wrap(~factor(metrics, levels = c(\"auROC\", \"auPR\"))) +\n",
    "      theme_classic() +\n",
    "      theme(axis.title.y = element_blank(),\n",
    "            axis.ticks.y = element_blank(),\n",
    "            axis.line.y = element_blank(),\n",
    "            axis.text.y = element_text(margin = margin(r = -12)),\n",
    "            axis.line.x = element_blank(),\n",
    "            axis.ticks.x = element_blank(),\n",
    "            plot.margin = margin(1, 1, 1, 1, \"pt\"),\n",
    "            legend.title=element_blank()) +\n",
    "      scale_fill_manual(values = c(\"#6CAA2F\", \"#C23E28\")) +\n",
    "      labs(x = NULL) +\n",
    "      guides(fill=guide_legend(nrow=2, byrow=TRUE)) +\n",
    "      geom_text(aes(label = sig, y = 0), color = \"blue\", size = 7)+ theme(legend.position=\"none\")+\n",
    "  theme(\n",
    "    panel.background = element_rect(fill='transparent'), #transparent panel bg\n",
    "    plot.background = element_rect(fill='transparent', color=NA), #transparent plot bg\n",
    "    panel.grid.major = element_blank(), #remove major gridlines\n",
    "    panel.grid.minor = element_blank(), #remove minor gridlines\n",
    "    legend.background = element_rect(fill='transparent'), #transparent legend bg\n",
    "    legend.box.background = element_rect(fill='transparent') #transparent legend panel\n",
    "  )\n",
    "    \n",
    "a2 <-     df_age  |> \n",
    "      filter(metrics %in% c(\"sensitivity\", \"specificity\", \"ppv\")) |> \n",
    "      ggplot(aes(x = \"\", y = score, fill = group)) +\n",
    "      geom_boxplot(outlier.size = .2) +\n",
    "      facet_wrap(~factor(metrics, \n",
    "                         levels = c(\"specificity\", \"sensitivity\", \"ppv\"))) +\n",
    "      theme_classic() +\n",
    "      theme(axis.title.y = element_blank(),\n",
    "            axis.ticks.y = element_blank(),\n",
    "            axis.line.y = element_blank(),\n",
    "            axis.text.y = element_text(margin = margin(r = -12)),\n",
    "            axis.line.x = element_blank(),\n",
    "            axis.ticks.x = element_blank(),\n",
    "            plot.margin = margin(1, 1, 1, 1, \"pt\"),\n",
    "            legend.title=element_blank()) + \n",
    "      scale_fill_manual(values = c(\"#6CAA2F\", \"#C23E28\")) +\n",
    "      labs(x = NULL) +\n",
    "      guides(fill=guide_legend(nrow=2, byrow=TRUE)) +\n",
    "      geom_text(aes(label = sig, y = 0), color = \"blue\", size = 7)+ theme(legend.position=\"none\")+\n",
    "  theme(\n",
    "    panel.background = element_rect(fill='transparent'), #transparent panel bg\n",
    "    plot.background = element_rect(fill='transparent', color=NA), #transparent plot bg\n",
    "    panel.grid.major = element_blank(), #remove major gridlines\n",
    "    panel.grid.minor = element_blank(), #remove minor gridlines\n",
    "    legend.background = element_rect(fill='transparent'), #transparent legend bg\n",
    "    legend.box.background = element_rect(fill='transparent') #transparent legend panel\n",
    "  )"
   ],
   "id": "628199f9-34da-4c52-8236-1550276770d2"
  },
  {
   "cell_type": "code",
   "execution_count": null,
   "metadata": {},
   "outputs": [
    {
     "output_type": "stream",
     "name": "stderr",
     "text": [
      "Warning: Removed 1 rows containing non-finite values (`stat_boxplot()`)."
     ]
    }
   ],
   "source": [
    "#set printing defaults for ggsave\n",
    "gg_width <-  4\n",
    "\n",
    "\n",
    "#printing\n",
    "\n",
    "ggsave(\"_presentations/poster1/images/barplot_race1.png\", r1,  bg=\"transparent\", width = gg_width, height = gg_width)\n",
    "ggsave(\"_presentations/poster1/images/barplot_race2.png\", r2, bg=\"transparent\", width = gg_width, height = gg_width)\n",
    "ggsave(\"_presentations/poster1/images/barplot_sex1.png\", s1,  bg=\"transparent\", width = gg_width, height = gg_width)\n",
    "ggsave(\"_presentations/poster1/images/barplot_sex2.png\", s2, bg=\"transparent\", width = gg_width, height = gg_width)\n",
    "ggsave(\"_presentations/poster1/images/barplot_income1.png\", i1,  bg=\"transparent\", width = gg_width, height = gg_width)\n",
    "ggsave(\"_presentations/poster1/images/barplot_income2.png\", i2, bg=\"transparent\", width = gg_width, height = gg_width)"
   ],
   "id": "10c07c48-5de6-401d-968c-a786e7efd48c"
  }
 ],
 "nbformat": 4,
 "nbformat_minor": 5,
 "metadata": {}
}
