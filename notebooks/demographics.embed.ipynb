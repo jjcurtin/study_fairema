{
 "cells": [
  {
   "cell_type": "markdown",
   "metadata": {},
   "source": [
    "# Create Demographics Summary\n",
    "\n",
    "Coco Yu\n",
    "\n",
    "### Set Up Environment\n",
    "\n",
    "Set up parameters as variables"
   ],
   "id": "cda1f2fc-b9b2-44b3-b6b0-b9d021b615aa"
  },
  {
   "cell_type": "code",
   "execution_count": null,
   "metadata": {},
   "outputs": [
    {
     "output_type": "stream",
     "name": "stdout",
     "text": [
      "[1] \"ema\""
     ]
    },
    {
     "output_type": "stream",
     "name": "stdout",
     "text": [
      "[1] \"1day\""
     ]
    },
    {
     "output_type": "stream",
     "name": "stdout",
     "text": [
      "[1] 0"
     ]
    },
    {
     "output_type": "stream",
     "name": "stdout",
     "text": [
      "[1] \"v5\""
     ]
    },
    {
     "output_type": "stream",
     "name": "stdout",
     "text": [
      "[1] \"nested\""
     ]
    },
    {
     "output_type": "stream",
     "name": "stdout",
     "text": [
      "[1] \"main\""
     ]
    }
   ],
   "source": [
    "(study <- params$study)"
   ],
   "id": "1be8a3e5-0927-4650-b664-1c27d00d196a"
  },
  {
   "cell_type": "markdown",
   "metadata": {},
   "source": [
    "Function conflicts"
   ],
   "id": "4fb6f289-e8c6-4ab7-b168-aba74f2f034b"
  },
  {
   "cell_type": "code",
   "execution_count": null,
   "metadata": {},
   "outputs": [
    {
     "output_type": "stream",
     "name": "stderr",
     "text": [
      "ℹ SHA-1 hash of file is \"77e91675366f10788c6bcb59fa1cfc9ee0c75281\""
     ]
    }
   ],
   "source": [
    "#| message: false\n",
    "#| warning: false\n",
    "#| include: false\n",
    "#| echo: false\n",
    "\n",
    "# source function\n",
    "devtools::source_url(\"https://github.com/jjcurtin/lab_support/blob/main/fun_ml.R?raw=true\")"
   ],
   "id": "a6fbccbe-9785-4f99-b15f-dcdb481a1e9c"
  },
  {
   "cell_type": "markdown",
   "metadata": {},
   "source": [
    "Chunk Defaults"
   ],
   "id": "be2f7a3e-6245-449f-b8eb-2fe5991126c5"
  },
  {
   "cell_type": "code",
   "execution_count": null,
   "metadata": {},
   "outputs": [],
   "source": [
    "#| include: false\n",
    "\n",
    "knitr::opts_chunk$set(attr.output='style=\"max-height: 500px;\"')\n",
    "\n",
    "options(tibble.width = Inf)\n",
    "options(tibble.print_max = Inf)"
   ],
   "id": "723afa14-c910-465a-97f0-cb232f9a24de"
  },
  {
   "cell_type": "markdown",
   "metadata": {},
   "source": [
    "Packages for script"
   ],
   "id": "19cf5f30-1b44-4e0f-bdca-ee0b80cebcb7"
  },
  {
   "cell_type": "code",
   "execution_count": null,
   "metadata": {},
   "outputs": [
    {
     "output_type": "stream",
     "name": "stderr",
     "text": [
      "── Attaching core tidyverse packages ──────────────────────── tidyverse 2.0.0 ──\n",
      "✔ dplyr     1.1.3     ✔ readr     2.1.4\n",
      "✔ forcats   1.0.0     ✔ stringr   1.5.0\n",
      "✔ ggplot2   3.4.3     ✔ tibble    3.2.1\n",
      "✔ lubridate 1.9.2     ✔ tidyr     1.3.0\n",
      "✔ purrr     1.0.2     \n",
      "── Conflicts ────────────────────────────────────────── tidyverse_conflicts() ──\n",
      "✖ dplyr::filter() masks stats::filter()\n",
      "✖ dplyr::lag()    masks stats::lag()\n",
      "ℹ Use the conflicted package (<http://conflicted.r-lib.org/>) to force all conflicts to become errors"
     ]
    }
   ],
   "source": [
    "#| message: false\n",
    "#| warning: false\n",
    "#| include: false\n",
    "#| echo: false\n",
    "\n",
    "library(tidyverse)"
   ],
   "id": "4d84cede-3f3d-4c9b-a8f5-044c2732e8eb"
  },
  {
   "cell_type": "markdown",
   "metadata": {},
   "source": [
    "Source support functions"
   ],
   "id": "558eaa2a-7acb-4973-9ad9-0f5dfe4c78e3"
  },
  {
   "cell_type": "code",
   "execution_count": null,
   "metadata": {},
   "outputs": [
    {
     "output_type": "stream",
     "name": "stderr",
     "text": [
      "ℹ SHA-1 hash of file is \"a58e57da996d1b70bb9a5b58241325d6fd78890f\""
     ]
    },
    {
     "output_type": "stream",
     "name": "stderr",
     "text": [
      "ℹ SHA-1 hash of file is \"c045eee2655a18dc85e715b78182f176327358a7\""
     ]
    }
   ],
   "source": [
    "#| message: false\n",
    "#| warning: false\n",
    "#| include: false\n",
    "#| echo: false\n",
    "\n",
    "devtools::source_url(\"https://github.com/jjcurtin/lab_support/blob/main/format_path.R?raw=true\")"
   ],
   "id": "2409ec69-5d6e-402f-8d68-a332a0234dc1"
  },
  {
   "cell_type": "markdown",
   "metadata": {},
   "source": [
    "Absolute paths"
   ],
   "id": "34d7923f-a0f7-4fa5-a87e-65395a7849fd"
  },
  {
   "cell_type": "code",
   "execution_count": null,
   "metadata": {},
   "outputs": [],
   "source": [
    "path_fairema <- format_path(str_c(\"studydata/risk/data_processed/fairema\"))"
   ],
   "id": "762f50f7-b253-47ab-be13-10e121a36d86"
  },
  {
   "cell_type": "markdown",
   "metadata": {},
   "source": [
    "### Read in data"
   ],
   "id": "f86a66ce-db46-4696-a5c8-0734f8694b97"
  },
  {
   "cell_type": "code",
   "execution_count": null,
   "metadata": {},
   "outputs": [
    {
     "output_type": "stream",
     "name": "stdout",
     "text": [
      "Rows: 822,537\n",
      "Columns: 24\n",
      "$ outer_split_num <dbl> 2, 2, 2, 2, 2, 2, 2, 2, 2, 2, 2, 2, 2, 2, 2, 2, 2, 2, …\n",
      "$ threshold       <dbl> 0.136745, 0.136745, 0.136745, 0.136745, 0.136745, 0.13…\n",
      "$ subid           <dbl> 1, 1, 1, 1, 1, 1, 1, 1, 1, 1, 1, 1, 1, 1, 1, 1, 1, 1, …\n",
      "$ prob_beta       <dbl> 0.01496474, 0.01496474, 0.01496474, 0.01492757, 0.0149…\n",
      "$ label           <fct> No lapse, No lapse, No lapse, No lapse, No lapse, No l…\n",
      "$ dem_1           <dbl> 57, 57, 57, 57, 57, 57, 57, 57, 57, 57, 57, 57, 57, 57…\n",
      "$ dem_2           <chr> \"Male\", \"Male\", \"Male\", \"Male\", \"Male\", \"Male\", \"Male\"…\n",
      "$ dem_3           <chr> \"White/Caucasian\", \"White/Caucasian\", \"White/Caucasian…\n",
      "$ dem_3_1         <chr> NA, NA, NA, NA, NA, NA, NA, NA, NA, NA, NA, NA, NA, NA…\n",
      "$ dem_4           <chr> \"No, I am not of Hispanic, Latino, or Spanish origin\",…\n",
      "$ dem_4_1         <chr> NA, NA, NA, NA, NA, NA, NA, NA, NA, NA, NA, NA, NA, NA…\n",
      "$ dem_5           <chr> \"College degree\", \"College degree\", \"College degree\", …\n",
      "$ dem_6           <chr> \"Unemployed\", \"Unemployed\", \"Unemployed\", \"Unemployed\"…\n",
      "$ dem_6_1         <chr> NA, NA, NA, NA, NA, NA, NA, NA, NA, NA, NA, NA, NA, NA…\n",
      "$ dem_7           <dbl> 12000, 12000, 12000, 12000, 12000, 12000, 12000, 12000…\n",
      "$ dem_8           <chr> \"Never Married\", \"Never Married\", \"Never Married\", \"Ne…\n",
      "$ dem2_2          <dbl> 2, 2, 2, 2, 2, 2, 2, 2, 2, 2, 2, 2, 2, 2, 2, 2, 2, 2, …\n",
      "$ dem2_4          <dbl> 0, 0, 0, 0, 0, 0, 0, 0, 0, 0, 0, 0, 0, 0, 0, 0, 0, 0, …\n",
      "$ dem2_6          <dbl> 0, 0, 0, 0, 0, 0, 0, 0, 0, 0, 0, 0, 0, 0, 0, 0, 0, 0, …\n",
      "$ dem2_8          <dbl> 0, 0, 0, 0, 0, 0, 0, 0, 0, 0, 0, 0, 0, 0, 0, 0, 0, 0, …\n",
      "$ race            <chr> \"white\", \"white\", \"white\", \"white\", \"white\", \"white\", …\n",
      "$ age             <chr> \"older\", \"older\", \"older\", \"older\", \"older\", \"older\", …\n",
      "$ income          <chr> \"below_poverty\", \"below_poverty\", \"below_poverty\", \"be…\n",
      "$ predicted       <fct> No lapse, No lapse, No lapse, No lapse, No lapse, No l…"
     ]
    }
   ],
   "source": [
    "df <- read_csv(here::here(path_fairema, str_c(\"outer_preds_with_demo_\", window, \"_\", lead,\n",
    "                                               \"_\", version, \"_\", cv, \"_\", model, \".csv\")),\n",
    "               col_types = cols()) |> \n",
    "  mutate(label = factor(label, levels = c(\"Lapse\", \"No lapse\")),\n",
    "         predicted = factor(predicted, levels = c(\"Lapse\", \"No lapse\"))) |> glimpse()"
   ],
   "id": "bb4b10ed-bcee-460a-bfaa-5905d0934d49"
  },
  {
   "cell_type": "markdown",
   "metadata": {},
   "source": [
    "### Create Table"
   ],
   "id": "04d945a1-0340-4278-bac8-3d97f2a36fb9"
  },
  {
   "cell_type": "code",
   "execution_count": null,
   "metadata": {},
   "outputs": [
    {
     "output_type": "stream",
     "name": "stdout",
     "text": [
      "Rows: 151\n",
      "Columns: 4\n",
      "$ sex    <chr> \"Male\", \"Female\", \"Female\", \"Male\", \"Female\", \"Male\", \"Male\", \"…\n",
      "$ race   <chr> \"white\", \"white\", \"white\", \"white\", \"white\", \"white\", \"white\", …\n",
      "$ income <chr> \"below_poverty\", \"above_poverty\", \"above_poverty\", \"above_pover…\n",
      "$ age    <chr> \"older\", \"younger\", \"younger\", \"younger\", \"younger\", \"younger\",…"
     ]
    }
   ],
   "source": [
    "demographics <- df |> \n",
    "  select(c(\"dem_2\", \"race\", \"income\", \"age\", \"subid\")) |> \n",
    "  rename(sex = dem_2) |>\n",
    "  unique() |> \n",
    "  select(-subid) |> \n",
    "  glimpse()"
   ],
   "id": "b3db03bc-fa2b-4a24-af66-206e68ccfc23"
  },
  {
   "cell_type": "code",
   "execution_count": null,
   "metadata": {},
   "outputs": [],
   "source": [
    "output <- rbind(\n",
    "  data.frame(table(demographics$sex)),\n",
    "  data.frame(table(demographics$race)),\n",
    "  data.frame(table(demographics$income)),\n",
    "  data.frame(table(demographics$age))\n",
    ")\n",
    "\n",
    "output$demographics <- rep(c(\"sex\", \"race\", \"income\", \"age\"), each = 2)\n",
    "output <- output |> \n",
    "  rename(subgroup = Var1, N = Freq) |> \n",
    "  relocate(demographics)\n",
    "output <- output[c(2, 1, 4, 3, 5, 6, 8, 7),]\n",
    "# output |> print_kbl()"
   ],
   "id": "ffa26cc2-b006-4a12-bfd2-1ee276a15c10"
  },
  {
   "cell_type": "code",
   "execution_count": null,
   "metadata": {},
   "outputs": [
    {
     "output_type": "stream",
     "name": "stderr",
     "text": [
      "Saving 7.3 x 5.2 in image"
     ]
    }
   ],
   "source": [
    "#| label: pie_chart\n",
    "#| fig-width: 7.3\n",
    "#| fig-height: 5.2\n",
    "\n",
    "p <- output |> \n",
    "  mutate(\n",
    "    subgroup = case_when(\n",
    "      subgroup == \"Female\" ~ \"unprivileged\",\n",
    "      subgroup == \"Male\" ~ \"privileged\",\n",
    "      subgroup == \"white\" ~ \"privileged\",\n",
    "      subgroup == \"non_white\" ~ \"unprivileged\",\n",
    "      subgroup == \"above_poverty\" ~ \"privileged\",\n",
    "      subgroup == \"below_poverty\" ~ \"unprivileged\",\n",
    "      subgroup == \"younger\" ~ \"privileged\",\n",
    "      subgroup == \"older\" ~ \"unprivileged\"\n",
    "    ),\n",
    "    demographics = case_when(\n",
    "      demographics == \"sex\" ~ \"Sex\",\n",
    "      demographics == \"race\" ~ \"Race\",\n",
    "      demographics == \"income\" ~ \"Income\",\n",
    "      demographics == \"age\" ~ \"Age\"\n",
    "    )\n",
    "  ) |> \n",
    " ggplot(aes(x = \"\", y = N, fill = subgroup)) + \n",
    "  geom_bar(stat=\"identity\", width=1) +\n",
    "  coord_polar(\"y\", start=0) +\n",
    "  scale_fill_manual(values = c(\"privileged\" = \"#6CAA2F\",\n",
    "                               \"unprivileged\" = \"#C23E28\")) +\n",
    "  geom_text(aes(label = c(\n",
    "    \"Male\",\n",
    "    \"Female\",\n",
    "    \"White\",\n",
    "    \"Person of Color\",\n",
    "    \"Above Poverty\",\n",
    "    \"Below Poverty\",\n",
    "    \"Younger\",\n",
    "    \"Older (>55)\"\n",
    "  )), position = position_stack(vjust = 0.5)) +\n",
    "  theme_void() +\n",
    "  theme(legend.title=element_blank(), legend.position = \"bottom\") +\n",
    "  facet_wrap(~factor(demographics, levels = c(\"Race\", \"Sex\", \"Income\", \"Age\"))) +\n",
    "  theme(strip.text.x = element_text(size = 14)) \n",
    "  ggsave(\"_presentations/poster1/images/piechart.png\", p,  bg=\"transparent\")"
   ],
   "id": "cb9f0bc4-692e-49a6-8773-0179af74f149"
  }
 ],
 "nbformat": 4,
 "nbformat_minor": 5,
 "metadata": {}
}
