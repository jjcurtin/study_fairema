{
 "cells": [
  {
   "cell_type": "markdown",
   "metadata": {},
   "source": [
    "# Agregated metrics plot\n",
    "\n",
    "Coco Yu\n",
    "\n",
    "### Set Up Environment\n",
    "\n",
    "Set up parameters as variables"
   ],
   "id": "fe9928da-4d21-4cb1-b940-6f3bf0f1e156"
  },
  {
   "cell_type": "code",
   "execution_count": null,
   "metadata": {},
   "outputs": [
    {
     "output_type": "stream",
     "name": "stdout",
     "text": [
      "[1] \"ema\""
     ]
    },
    {
     "output_type": "stream",
     "name": "stdout",
     "text": [
      "[1] \"1day\""
     ]
    },
    {
     "output_type": "stream",
     "name": "stdout",
     "text": [
      "[1] 0"
     ]
    },
    {
     "output_type": "stream",
     "name": "stdout",
     "text": [
      "[1] \"v5\""
     ]
    },
    {
     "output_type": "stream",
     "name": "stdout",
     "text": [
      "[1] \"nested\""
     ]
    },
    {
     "output_type": "stream",
     "name": "stdout",
     "text": [
      "[1] \"main\""
     ]
    }
   ],
   "source": [
    "(study <- params$study)\n"
   ],
   "id": "06975a3d-3772-4df3-8784-2742d072da2a"
  },
  {
   "cell_type": "markdown",
   "metadata": {},
   "source": [
    "Function conflicts"
   ],
   "id": "1217a01d-0a37-40e2-a183-2cb01b186738"
  },
  {
   "cell_type": "code",
   "execution_count": null,
   "metadata": {},
   "outputs": [
    {
     "output_type": "stream",
     "name": "stderr",
     "text": [
      "ℹ SHA-1 hash of file is \"77e91675366f10788c6bcb59fa1cfc9ee0c75281\""
     ]
    }
   ],
   "source": [
    "# source\n",
    "devtools::source_url(\"https://github.com/jjcurtin/lab_support/blob/main/fun_ml.R?raw=true\")\n"
   ],
   "id": "f517eab1-20c4-40c2-a1b2-8ff961907946"
  },
  {
   "cell_type": "markdown",
   "metadata": {},
   "source": [
    "Chunk Defaults"
   ],
   "id": "c3fa7883-231a-4cbf-bd34-345138ce19b4"
  },
  {
   "cell_type": "code",
   "execution_count": null,
   "metadata": {},
   "outputs": [],
   "source": [
    "knitr::opts_chunk$set(attr.output='style=\"max-height: 500px;\"')\n",
    "\n",
    "options(tibble.width = Inf)\n",
    "options(tibble.print_max = Inf)\n"
   ],
   "id": "14923954-2443-4505-bdcf-7cd32d504e96"
  },
  {
   "cell_type": "markdown",
   "metadata": {},
   "source": [
    "Packages for script"
   ],
   "id": "a51b34e7-ce7a-4495-99e9-35456edccfd3"
  },
  {
   "cell_type": "code",
   "execution_count": null,
   "metadata": {},
   "outputs": [
    {
     "output_type": "stream",
     "name": "stderr",
     "text": [
      "── Attaching core tidyverse packages ──────────────────────── tidyverse 2.0.0 ──\n",
      "✔ dplyr     1.1.3     ✔ readr     2.1.4\n",
      "✔ forcats   1.0.0     ✔ stringr   1.5.0\n",
      "✔ ggplot2   3.4.3     ✔ tibble    3.2.1\n",
      "✔ lubridate 1.9.2     ✔ tidyr     1.3.0\n",
      "✔ purrr     1.0.2     \n",
      "── Conflicts ────────────────────────────────────────── tidyverse_conflicts() ──\n",
      "✖ dplyr::filter() masks stats::filter()\n",
      "✖ dplyr::lag()    masks stats::lag()\n",
      "ℹ Use the conflicted package (<http://conflicted.r-lib.org/>) to force all conflicts to become errors"
     ]
    }
   ],
   "source": [
    "library(tidyverse)\n"
   ],
   "id": "7be5be00-5d29-4ef6-8a01-0b75ad81c4f3"
  },
  {
   "cell_type": "markdown",
   "metadata": {},
   "source": [
    "Source support functions"
   ],
   "id": "67b6e1ac-71f5-4124-afa6-e3eb4b3d3fcb"
  },
  {
   "cell_type": "code",
   "execution_count": null,
   "metadata": {},
   "outputs": [
    {
     "output_type": "stream",
     "name": "stderr",
     "text": [
      "ℹ SHA-1 hash of file is \"a58e57da996d1b70bb9a5b58241325d6fd78890f\""
     ]
    }
   ],
   "source": [
    "devtools::source_url(\"https://github.com/jjcurtin/lab_support/blob/main/format_path.R?raw=true\")\n"
   ],
   "id": "65ea451b-42b7-406f-aca9-1696bdf15d18"
  },
  {
   "cell_type": "markdown",
   "metadata": {},
   "source": [
    "Absolute paths"
   ],
   "id": "198d7086-a052-42bc-b492-3b0cd9ea8dbf"
  },
  {
   "cell_type": "code",
   "execution_count": null,
   "metadata": {},
   "outputs": [],
   "source": [
    "path_fairema <- format_path(str_c(\"studydata/risk/data_processed/fairema\"))\n"
   ],
   "id": "555982c2-6824-470f-afb2-4d2a3bd88ef4"
  },
  {
   "cell_type": "markdown",
   "metadata": {},
   "source": [
    "### Read in data"
   ],
   "id": "5b7d3ea9-4fdb-435b-9085-abef48c2fcbc"
  },
  {
   "cell_type": "code",
   "execution_count": null,
   "metadata": {},
   "outputs": [],
   "source": [
    "df_sex <- read_csv(here::here(path_fairema, str_c(\"outer_preds_perf_\", \"sex\", \"_\", window, \n",
    "                                           \"_\", lead, \"_\", version, \"_\", cv, \"_\", model,\n",
    "                                           \".csv\")),\n",
    "                      col_types = cols())\n",
    "df_sex$attribute <- \"sex\"\n",
    "\n",
    "df_race <- read_csv(here::here(path_fairema, str_c(\"outer_preds_perf_\", \"race\", \"_\", window, \n",
    "                                           \"_\", lead, \"_\", version, \"_\", cv, \"_\", model,\n",
    "                                           \".csv\")),\n",
    "                    col_types = cols())\n",
    "df_race$attribute <- \"race\"\n",
    "\n",
    "df_income <- read_csv(here::here(path_fairema, str_c(\"outer_preds_perf_\", \"income\", \"_\", window, \n",
    "                                           \"_\", lead, \"_\", version, \"_\", cv, \"_\", model,\n",
    "                                           \".csv\")),\n",
    "                      col_types = cols())\n",
    "df_income$attribute <- \"income\"\n",
    "\n",
    "df_age <- read_csv(here::here(path_fairema, str_c(\"outer_preds_perf_\", \"age\", \"_\", window, \n",
    "                                           \"_\", lead, \"_\", version, \"_\", cv, \"_\", model,\n",
    "                                           \".csv\")),\n",
    "                   col_types = cols())\n",
    "df_age$attribute <- \"age\"\n",
    "\n",
    "df <- rbind(df_sex, df_race, df_income, df_age)\n"
   ],
   "id": "8af43a84-5176-49f3-8266-f24280c3baeb"
  },
  {
   "cell_type": "markdown",
   "metadata": {},
   "source": [
    "### Make Dataframes for plots"
   ],
   "id": "e768f942-4013-4f52-8f95-94c80623e74f"
  },
  {
   "cell_type": "code",
   "execution_count": null,
   "metadata": {},
   "outputs": [],
   "source": [
    "mak_df_plot <- function(df){\n",
    "  df |> \n",
    "    filter(group != \"all\", n_lapses != 0) |> \n",
    "    select(-n_lapses) |> \n",
    "    pivot_longer(-c(\"outer_split_num\", \"group\", \"attribute\"),\n",
    "               names_to = \"metrics\", values_to = \"score\") |>\n",
    "    mutate(metrics = case_when(metrics == \"balaccuracy\" ~ \"balanced accuracy\",\n",
    "                               metrics != \"balaccuracy\" ~ metrics),\n",
    "           group = case_when(\n",
    "             group == \"Male\" ~ \"Privileged (Male)\",\n",
    "             group == \"Female\" ~ \"Unprivileged (Female)\",\n",
    "             group == \"white\" ~ \"Privileged (White)\",\n",
    "             group == \"non_white\" ~ \"Unprivileged (Person of Color)\",\n",
    "             group == \"above_poverty\" ~ \"Privileged (Above Poverty)\",\n",
    "             group == \"below_poverty\" ~ \"Unprivileged (Below Poverty)\",\n",
    "             group == \"younger\" ~ \"Privileged (Age 55 or older)\",\n",
    "             group == \"older\" ~ \"Unprivileged (Below 55)\"\n",
    "           ),\n",
    "           sig = case_when(\n",
    "             attribute == \"sex\" & metrics == \"auroc\" ~ \"**\",\n",
    "             attribute == \"sex\" & metrics == \"prauc\" ~ \"\",\n",
    "             attribute == \"sex\" & metrics == \"sensitivity\" ~ \"\",\n",
    "             attribute == \"sex\" & metrics == \"specificity\" ~ \"*\",\n",
    "             attribute == \"sex\" & metrics == \"ppv\" ~ \"\",\n",
    "             attribute == \"sex\" & metrics == \"balanced accuracy\" ~ \"\",\n",
    "             attribute == \"race\" & metrics == \"auroc\" ~ \"***\",\n",
    "             attribute == \"race\" & metrics == \"prauc\" ~ \"***\",\n",
    "             attribute == \"race\" & metrics == \"sensitivity\" ~ \"***\",\n",
    "             attribute == \"race\" & metrics == \"specificity\" ~ \"*\",\n",
    "             attribute == \"race\" & metrics == \"ppv\" ~ \"*\",\n",
    "             attribute == \"race\" & metrics == \"balanced accuracy\" ~ \"***\",\n",
    "             attribute == \"income\" & metrics == \"auroc\" ~ \"**\",\n",
    "             attribute == \"income\" & metrics == \"prauc\" ~ \"*\",\n",
    "             attribute == \"income\" & metrics == \"sensitivity\" ~ \"***\",\n",
    "             attribute == \"income\" & metrics == \"specificity\" ~ \"\",\n",
    "             attribute == \"income\" & metrics == \"ppv\" ~ \"\",\n",
    "             attribute == \"income\" & metrics == \"balanced accuracy\" ~ \"***\",\n",
    "             attribute == \"age\" & metrics == \"auroc\" ~ \"***\",\n",
    "             attribute == \"age\" & metrics == \"prauc\" ~ \"\",\n",
    "             attribute == \"age\" & metrics == \"sensitivity\" ~ \"**\",\n",
    "             attribute == \"age\" & metrics == \"specificity\" ~ \"*\",\n",
    "             attribute == \"age\" & metrics == \"ppv\" ~ \"*\",\n",
    "             attribute == \"age\" & metrics == \"balanced accuracy\" ~ \"***\"\n",
    "           ),\n",
    "           CI = case_when(\n",
    "             attribute == \"sex\" & metrics == \"auroc\" ~ \"CI[0.014, 0.074]\",\n",
    "             attribute == \"sex\" & metrics == \"prauc\" ~ \"CI[-0.080, 0.106]\",\n",
    "             attribute == \"sex\" & metrics == \"sensitivity\" ~ \"CI[-0.065, 0.106]\",\n",
    "             attribute == \"sex\" & metrics == \"specificity\" ~ \"CI[0.011, 0.101]\",\n",
    "             attribute == \"sex\" & metrics == \"ppv\" ~ \"CI[-0.071, 0.057]\",\n",
    "             attribute == \"sex\" & metrics == \"balanced accuracy\" ~ \"CI[-0.001, 0.078]\",\n",
    "             attribute == \"race\" & metrics == \"auroc\" ~ \"CI[0.127, 0.259]\",\n",
    "             attribute == \"race\" & metrics == \"prauc\" ~ \"CI[0.121, 0.324]\",\n",
    "             attribute == \"race\" & metrics == \"sensitivity\" ~ \"CI[0.132, 0.363]\",\n",
    "             attribute == \"race\" & metrics == \"specificity\" ~ \"CI[0.0103, 0.152]\",\n",
    "             attribute == \"race\" & metrics == \"ppv\" ~ \"CI[0.026, 0.182]\",\n",
    "             attribute == \"race\" & metrics == \"balanced accuracy\" ~ \"CI[0.121, 0.206]\",\n",
    "             attribute == \"income\" & metrics == \"auroc\" ~ \"CI[0.067, 0.196]\",\n",
    "             attribute == \"income\" & metrics == \"prauc\" ~ \"CI[0.016, 0.227]\",\n",
    "             attribute == \"income\" & metrics == \"sensitivity\" ~ \"CI[0.140, 0.344]\",\n",
    "             attribute == \"income\" & metrics == \"specificity\" ~ \"CI[-0.103, -0.008]\",\n",
    "             attribute == \"income\" & metrics == \"ppv\" ~ \"CI[-0.079, 0.089]\",\n",
    "             attribute == \"income\" & metrics == \"balanced accuracy\" ~ \"CI[0.047, 0.139]\",\n",
    "             attribute == \"age\" & metrics == \"auroc\" ~ \"CI[0.057, 0.138]\",\n",
    "             attribute == \"age\" & metrics == \"prauc\" ~ \"CI[-0.017, 0.187]\",\n",
    "             attribute == \"age\" & metrics == \"sensitivity\" ~ \"CI[0.063, 0.240]\",\n",
    "             attribute == \"age\" & metrics == \"specificity\" ~ \"CI[0.006, 0.106]\",\n",
    "             attribute == \"age\" & metrics == \"ppv\" ~ \"CI[0.011, 0.143]\",\n",
    "             attribute == \"age\" & metrics == \"balanced accuracy\" ~ \"CI[0.065, 0.149]\"\n",
    "           )\n",
    "           )|> \n",
    "    mutate(metrics = if_else(metrics == \"prauc\", \"auPR\", metrics)) |> \n",
    "    mutate(metrics = if_else(metrics == \"auroc\", \"auROC\", metrics))\n",
    "}\n"
   ],
   "id": "9618638a-7f9f-4d5f-a819-ce9a04162ac1"
  },
  {
   "cell_type": "code",
   "execution_count": null,
   "metadata": {},
   "outputs": [],
   "source": [
    "df_sex <- mak_df_plot(df_sex)\n",
    "df_race <- mak_df_plot(df_race)\n",
    "df_income <- mak_df_plot(df_income)\n",
    "df_age <- mak_df_plot(df_age)\n",
    "df <- mak_df_plot(df)\n"
   ],
   "id": "f7ab4aff-7524-41d9-9cbc-443c5067ce58"
  },
  {
   "cell_type": "markdown",
   "metadata": {},
   "source": [
    "### Construct Plots"
   ],
   "id": "43b5257e-f4c9-49b2-a318-e594c02a521e"
  },
  {
   "cell_type": "code",
   "execution_count": null,
   "metadata": {},
   "outputs": [],
   "source": [
    "sig_marks <- c(\"\", \"*\", \"**\", \"***\", \"\")\n",
    "\n",
    "\n",
    "\n",
    "r1 <-     df_race |> \n",
    "      filter(metrics %in% c(\"auROC\", \"auPR\")) |> \n",
    "      ggplot(aes(x = \"\", y = score, fill = group)) +\n",
    "      geom_boxplot(outlier.size = .2) +\n",
    "      facet_wrap(~factor(metrics, levels = c(\"auROC\", \"auPR\"))) +\n",
    "      theme_classic() +\n",
    "      theme(axis.title.y = element_blank(),\n",
    "            axis.ticks.y = element_blank(),\n",
    "            axis.line.y = element_blank(),\n",
    "            axis.text.y = element_text(margin = margin(r = -12)),\n",
    "            axis.line.x = element_blank(),\n",
    "            axis.ticks.x = element_blank(),\n",
    "            plot.margin = margin(1, 1, 1, 1, \"pt\"),\n",
    "            legend.text = element_text(size=7),\n",
    "            legend.title=element_blank()) +\n",
    "      scale_fill_manual(values = c(\"#6CAA2F\", \"#C23E28\")) +\n",
    "      labs(x = NULL) +\n",
    "      guides(fill=guide_legend(nrow=2, byrow=TRUE)) +\n",
    "      geom_text(aes(label = sig, y = 0), color = \"blue\", size = 7)+ \n",
    "  theme(\n",
    "    panel.background = element_rect(fill='transparent'), #transparent panel bg\n",
    "    plot.background = element_rect(fill='transparent', color=NA), #transparent plot bg\n",
    "    panel.grid.major = element_blank(), #remove major gridlines\n",
    "    panel.grid.minor = element_blank(), #remove minor gridlines\n",
    "    strip.background =element_rect(fill=\"transparent\"),\n",
    "    legend.background = element_rect(fill='transparent'), #transparent legend bg\n",
    "    legend.box.background = element_rect(fill='transparent') #transparent legend panel\n",
    "  )\n",
    "    \n",
    "r2 <-     df_race |> \n",
    "      filter(metrics %in% c(\"sensitivity\", \"specificity\", \"ppv\")) |> \n",
    "      ggplot(aes(x = \"\", y = score, fill = group)) +\n",
    "      geom_boxplot(outlier.size = .2) +\n",
    "      facet_wrap(~factor(metrics, \n",
    "                         levels = c(\"specificity\", \"sensitivity\", \"ppv\"))) +\n",
    "      theme_classic() +\n",
    "      theme(axis.title.y = element_blank(),\n",
    "            axis.ticks.y = element_blank(),\n",
    "            axis.line.y = element_blank(),\n",
    "            axis.text.y = element_text(margin = margin(r = -12)),\n",
    "            axis.line.x = element_blank(),\n",
    "            axis.ticks.x = element_blank(),\n",
    "            plot.margin = margin(1, 1, 1, 1, \"pt\"),\n",
    "            legend.text = element_text(size=7),\n",
    "            legend.title=element_blank()) + \n",
    "      scale_fill_manual(values = c(\"#6CAA2F\", \"#C23E28\")) +\n",
    "      labs(x = NULL) +\n",
    "      guides(fill=guide_legend(nrow=2, byrow=TRUE)) +\n",
    "      geom_text(aes(label = sig, y = 0), color = \"blue\", size = 7)+ \n",
    "  theme(\n",
    "    panel.background = element_rect(fill='transparent'), #transparent panel bg\n",
    "    plot.background = element_rect(fill='transparent', color=NA), #transparent plot bg\n",
    "    panel.grid.major = element_blank(), #remove major gridlines\n",
    "    panel.grid.minor = element_blank(), #remove minor gridlines\n",
    "    strip.background =element_rect(fill=\"transparent\"),\n",
    "    legend.background = element_rect(fill='transparent'), #transparent legend bg\n",
    "    legend.box.background = element_rect(fill='transparent') #transparent legend panel\n",
    "  )\n",
    "\n",
    "r <- ggarrange(r1, r2, ncol = 1, common.legend = TRUE, legend = \"bottom\")\n"
   ],
   "id": "ab6ba5da-380a-4e3e-a9b8-d76add1f2159"
  },
  {
   "cell_type": "code",
   "execution_count": null,
   "metadata": {},
   "outputs": [],
   "source": [
    "s1 <-     df_sex |> \n",
    "      filter(metrics %in% c(\"auROC\", \"auPR\")) |> \n",
    "      ggplot(aes(x = \"\", y = score, fill = group)) +\n",
    "      geom_boxplot(outlier.size = .2) +\n",
    "      facet_wrap(~factor(metrics, levels = c(\"auROC\", \"auPR\"))) +\n",
    "      theme_classic() +\n",
    "      theme(axis.title.y = element_blank(),\n",
    "            axis.ticks.y = element_blank(),\n",
    "            axis.line.y = element_blank(),\n",
    "            axis.text.y = element_text(margin = margin(r = -12)),\n",
    "            axis.line.x = element_blank(),\n",
    "            axis.ticks.x = element_blank(),\n",
    "            plot.margin = margin(1, 1, 1, 1, \"pt\"),\n",
    "            legend.text = element_text(size=7),\n",
    "            legend.title=element_blank()) +\n",
    "      scale_fill_manual(values = c(\"#6CAA2F\", \"#C23E28\")) +\n",
    "      labs(x = NULL) +\n",
    "      guides(fill=guide_legend(nrow=2, byrow=TRUE)) +\n",
    "      geom_text(aes(label = sig, y = 0), color = \"blue\", size = 7)+\n",
    "  theme(\n",
    "    panel.background = element_rect(fill='transparent'), #transparent panel bg\n",
    "    plot.background = element_rect(fill='transparent', color=NA), #transparent plot bg\n",
    "    panel.grid.major = element_blank(), #remove major gridlines\n",
    "    panel.grid.minor = element_blank(), #remove minor gridlines\n",
    "    strip.background =element_rect(fill=\"transparent\"),\n",
    "    legend.background = element_rect(fill='transparent'), #transparent legend bg\n",
    "    legend.box.background = element_rect(fill='transparent') #transparent legend panel\n",
    "  )\n",
    "    \n",
    "s2 <-     df_sex |> \n",
    "      filter(metrics %in% c(\"sensitivity\", \"specificity\", \"ppv\")) |> \n",
    "      ggplot(aes(x = \"\", y = score, fill = group)) +\n",
    "      geom_boxplot(outlier.size = .2) +\n",
    "      facet_wrap(~factor(metrics, \n",
    "                         levels = c(\"specificity\", \"sensitivity\", \"ppv\"))) +\n",
    "      theme_classic() +\n",
    "      theme(axis.title.y = element_blank(),\n",
    "            axis.ticks.y = element_blank(),\n",
    "            axis.line.y = element_blank(),\n",
    "            axis.text.y = element_text(margin = margin(r = -12)),\n",
    "            axis.line.x = element_blank(),\n",
    "            axis.ticks.x = element_blank(),\n",
    "            plot.margin = margin(1, 1, 1, 1, \"pt\"),\n",
    "            legend.text = element_text(size=7),\n",
    "            legend.title=element_blank()) + \n",
    "      scale_fill_manual(values = c(\"#6CAA2F\", \"#C23E28\")) +\n",
    "      labs(x = NULL) +\n",
    "      guides(fill=guide_legend(nrow=2, byrow=TRUE)) +\n",
    "      geom_text(aes(label = sig, y = 0), color = \"blue\", size = 7)+ \n",
    "  theme(\n",
    "    panel.background = element_rect(fill='transparent'), #transparent panel bg\n",
    "    plot.background = element_rect(fill='transparent', color=NA), #transparent plot bg\n",
    "    panel.grid.major = element_blank(), #remove major gridlines\n",
    "    panel.grid.minor = element_blank(), #remove minor gridlines\n",
    "    strip.background =element_rect(fill=\"transparent\"),\n",
    "    legend.background = element_rect(fill='transparent'), #transparent legend bg\n",
    "    legend.box.background = element_rect(fill='transparent') #transparent legend panel\n",
    "  )\n",
    "\n",
    "\n",
    "s <- ggarrange(s1, s2, ncol = 1, common.legend = TRUE, legend = \"bottom\")\n"
   ],
   "id": "e327aed1-f21b-4a75-9e1f-15914d38e2a3"
  },
  {
   "cell_type": "code",
   "execution_count": null,
   "metadata": {},
   "outputs": [
    {
     "output_type": "stream",
     "name": "stderr",
     "text": [
      "Warning: Removed 1 rows containing non-finite values (`stat_boxplot()`)."
     ]
    }
   ],
   "source": [
    "i1 <-     df_income |> \n",
    "      filter(metrics %in% c(\"auROC\", \"auPR\")) |> \n",
    "      ggplot(aes(x = \"\", y = score, fill = group)) +\n",
    "      geom_boxplot(outlier.size = .2) +\n",
    "      facet_wrap(~factor(metrics, levels = c(\"auROC\", \"auPR\"))) +\n",
    "      theme_classic() +\n",
    "      theme(axis.title.y = element_blank(),\n",
    "            axis.ticks.y = element_blank(),\n",
    "            axis.line.y = element_blank(),\n",
    "            axis.text.y = element_text(margin = margin(r = -12)),\n",
    "            axis.line.x = element_blank(),\n",
    "            axis.ticks.x = element_blank(),\n",
    "            plot.margin = margin(1, 1, 1, 1, \"pt\"),\n",
    "            legend.text = element_text(size=7),\n",
    "            legend.title=element_blank()) +\n",
    "      scale_fill_manual(values = c(\"#6CAA2F\", \"#C23E28\")) +\n",
    "      labs(x = NULL) +\n",
    "      guides(fill=guide_legend(nrow=2, byrow=TRUE)) +\n",
    "      geom_text(aes(label = sig, y = 0), color = \"blue\", size = 7)+ theme(legend.position=\"none\")+\n",
    "  theme(\n",
    "    panel.background = element_rect(fill='transparent'), #transparent panel bg\n",
    "    plot.background = element_rect(fill='transparent', color=NA), #transparent plot bg\n",
    "    panel.grid.major = element_blank(), #remove major gridlines\n",
    "    panel.grid.minor = element_blank(), #remove minor gridlines\n",
    "    strip.background =element_rect(fill=\"transparent\"),\n",
    "    legend.background = element_rect(fill='transparent'), #transparent legend bg\n",
    "    legend.box.background = element_rect(fill='transparent') #transparent legend panel\n",
    "  )\n",
    "    \n",
    "i2 <-     df_income |> \n",
    "      filter(metrics %in% c(\"sensitivity\", \"specificity\", \"ppv\")) |> \n",
    "      ggplot(aes(x = \"\", y = score, fill = group)) +\n",
    "      geom_boxplot(outlier.size = .2) +\n",
    "      facet_wrap(~factor(metrics, \n",
    "                         levels = c(\"specificity\", \"sensitivity\", \"ppv\"))) +\n",
    "      theme_classic() +\n",
    "      theme(axis.title.y = element_blank(),\n",
    "            axis.ticks.y = element_blank(),\n",
    "            axis.line.y = element_blank(),\n",
    "            axis.text.y = element_text(margin = margin(r = -12)),\n",
    "            axis.line.x = element_blank(),\n",
    "            axis.ticks.x = element_blank(),\n",
    "            plot.margin = margin(1, 1, 1, 1, \"pt\"),\n",
    "            legend.text = element_text(size=7),\n",
    "            legend.title=element_blank()) + \n",
    "      scale_fill_manual(values = c(\"#6CAA2F\", \"#C23E28\")) +\n",
    "      labs(x = NULL) +\n",
    "      guides(fill=guide_legend(nrow=2, byrow=TRUE)) +\n",
    "      geom_text(aes(label = sig, y = 0), color = \"blue\", size = 7)+ theme(legend.position=\"none\")+\n",
    "  theme(\n",
    "    panel.background = element_rect(fill='transparent'), #transparent panel bg\n",
    "    plot.background = element_rect(fill='transparent', color=NA), #transparent plot bg\n",
    "    panel.grid.major = element_blank(), #remove major gridlines\n",
    "    panel.grid.minor = element_blank(), #remove minor gridlines\n",
    "    strip.background =element_rect(fill=\"transparent\"),\n",
    "    legend.background = element_rect(fill='transparent'), #transparent legend bg\n",
    "    legend.box.background = element_rect(fill='transparent') #transparent legend panel\n",
    "  )\n",
    "\n",
    "\n",
    "i <- ggarrange(i1, i2, ncol = 1, common.legend = TRUE, legend = \"bottom\")\n"
   ],
   "id": "d673a395-4f54-403c-b9a1-a3d671da1d51"
  },
  {
   "cell_type": "code",
   "execution_count": null,
   "metadata": {},
   "outputs": [],
   "source": [
    "a1 <-     df_age |> \n",
    "      filter(metrics %in% c(\"auROC\", \"auPR\")) |> \n",
    "      ggplot(aes(x = \"\", y = score, fill = group)) +\n",
    "      geom_boxplot(outlier.size = .2) +\n",
    "      facet_wrap(~factor(metrics, levels = c(\"auROC\", \"auPR\"))) +\n",
    "      theme_classic() +\n",
    "      theme(axis.title.y = element_blank(),\n",
    "            axis.ticks.y = element_blank(),\n",
    "            axis.line.y = element_blank(),\n",
    "            axis.text.y = element_text(margin = margin(r = -12)),\n",
    "            axis.line.x = element_blank(),\n",
    "            axis.ticks.x = element_blank(),\n",
    "            plot.margin = margin(1, 1, 1, 1, \"pt\"),\n",
    "            legend.text = element_text(size=7),\n",
    "            legend.title=element_blank()) +\n",
    "      scale_fill_manual(values = c(\"#6CAA2F\", \"#C23E28\")) +\n",
    "      labs(x = NULL) +\n",
    "      guides(fill=guide_legend(nrow=2, byrow=TRUE)) +\n",
    "      geom_text(aes(label = sig, y = 0), color = \"blue\", size = 7)+ theme(legend.position=\"none\")+\n",
    "  theme(\n",
    "    panel.background = element_rect(fill='transparent'), #transparent panel bg\n",
    "    plot.background = element_rect(fill='transparent', color=NA), #transparent plot bg\n",
    "    panel.grid.major = element_blank(), #remove major gridlines\n",
    "    panel.grid.minor = element_blank(), #remove minor gridlines\n",
    "    strip.background =element_rect(fill=\"transparent\"),\n",
    "    legend.background = element_rect(fill='transparent'), #transparent legend bg\n",
    "    legend.box.background = element_rect(fill='transparent') #transparent legend panel\n",
    "  )\n",
    "    \n",
    "a2 <-     df_age  |> \n",
    "      filter(metrics %in% c(\"sensitivity\", \"specificity\", \"ppv\")) |> \n",
    "      ggplot(aes(x = \"\", y = score, fill = group)) +\n",
    "      geom_boxplot(outlier.size = .2) +\n",
    "      facet_wrap(~factor(metrics, \n",
    "                         levels = c(\"specificity\", \"sensitivity\", \"ppv\"))) +\n",
    "      theme_classic() +\n",
    "      theme(axis.title.y = element_blank(),\n",
    "            axis.ticks.y = element_blank(),\n",
    "            axis.line.y = element_blank(),\n",
    "            axis.text.y = element_text(margin = margin(r = -12)),\n",
    "            axis.line.x = element_blank(),\n",
    "            axis.ticks.x = element_blank(),\n",
    "            plot.margin = margin(1, 1, 1, 1, \"pt\"),\n",
    "            legend.text = element_text(size=7),\n",
    "            legend.title=element_blank()) + \n",
    "      scale_fill_manual(values = c(\"#6CAA2F\", \"#C23E28\")) +\n",
    "      labs(x = NULL) +\n",
    "      guides(fill=guide_legend(nrow=2, byrow=TRUE)) +\n",
    "      geom_text(aes(label = sig, y = 0), color = \"blue\", size = 7)+ theme(legend.position=\"none\")+\n",
    "  theme(\n",
    "    panel.background = element_rect(fill='transparent'), #transparent panel bg\n",
    "    plot.background = element_rect(fill='transparent', color=NA), #transparent plot bg\n",
    "    panel.grid.major = element_blank(), #remove major gridlines\n",
    "    panel.grid.minor = element_blank(), #remove minor gridlines\n",
    "    strip.background =element_rect(fill=\"transparent\"),\n",
    "    legend.background = element_rect(fill='transparent'), #transparent legend bg\n",
    "    legend.box.background = element_rect(fill='transparent') #transparent legend panel\n",
    "  )\n",
    "\n",
    "\n",
    "a <- ggarrange(a1, a2, ncol = 1, common.legend = TRUE, legend = \"bottom\")\n"
   ],
   "id": "0f7155a3-56cb-4aa7-8403-fbb9723c5acd"
  },
  {
   "cell_type": "code",
   "execution_count": null,
   "metadata": {},
   "outputs": [],
   "source": [
    "sr <- ggarrange(\n",
    "  annotate_figure(r, top = text_grob(\"Race\", face = \"bold\")),\n",
    "  annotate_figure(s, top = text_grob(\"Sex\", face = \"bold\"))\n",
    ")\n",
    "\n",
    "ia <- ggarrange(\n",
    "  annotate_figure(i, top = text_grob(\"Income\", face = \"bold\")),\n",
    "  annotate_figure(a, top = text_grob(\"Age\", face = \"bold\"))\n",
    ")\n"
   ],
   "id": "c017a998-7f0f-4350-bda8-84fbfdb88745"
  },
  {
   "cell_type": "code",
   "execution_count": null,
   "metadata": {},
   "outputs": [
    {
     "output_type": "stream",
     "name": "stderr",
     "text": [
      "Warning: Removed 1 rows containing non-finite values (`stat_boxplot()`)."
     ]
    }
   ],
   "source": [
    "#set printing defaults for ggsave\n",
    "gg_width <-  4\n",
    "\n",
    "\n",
    "#printing\n",
    "\n",
    "ggsave(\"_presentations/poster1/images/barplot_race1.png\", r1,  bg=\"transparent\", width = gg_width, height = gg_width)\n",
    "ggsave(\"_presentations/poster1/images/barplot_race2.png\", r2, bg=\"transparent\", width = gg_width, height = gg_width)\n",
    "ggsave(\"_presentations/poster1/images/barplot_sex1.png\", s1,  bg=\"transparent\", width = gg_width, height = gg_width)\n",
    "ggsave(\"_presentations/poster1/images/barplot_sex2.png\", s2, bg=\"transparent\", width = gg_width, height = gg_width)\n",
    "ggsave(\"_presentations/poster1/images/barplot_income1.png\", i1,  bg=\"transparent\", width = gg_width, height = gg_width)\n",
    "ggsave(\"_presentations/poster1/images/barplot_income2.png\", i2, bg=\"transparent\", width = gg_width, height = gg_width)\n"
   ],
   "id": "d438403b-b8ed-41af-8c05-04b001c2a313"
  }
 ],
 "nbformat": 4,
 "nbformat_minor": 5,
 "metadata": {}
}
